{
 "cells": [
  {
   "cell_type": "markdown",
   "metadata": {
    "colab_type": "text",
    "id": "view-in-github"
   },
   "source": [
    "<a href=\"https://colab.research.google.com/github/dineshssdn-867/CSE541_Computer_Vision_2022_5/blob/master/code/Anomaly_Detection.ipynb\" target=\"_parent\"><img src=\"https://colab.research.google.com/assets/colab-badge.svg\" alt=\"Open In Colab\"/></a>"
   ]
  },
  {
   "cell_type": "markdown",
   "metadata": {
    "id": "Rlx1qkQfWzRg"
   },
   "source": [
    "# Import Libraries and config files"
   ]
  },
  {
   "cell_type": "code",
   "execution_count": 1,
   "metadata": {
    "colab": {
     "base_uri": "https://localhost:8080/"
    },
    "id": "L6cWDAwOgob_",
    "outputId": "dc3d6cd0-a716-41e1-b9d6-600f4185ca4e"
   },
   "outputs": [],
   "source": [
    "# !pip install scipy==1.1.0"
   ]
  },
  {
   "cell_type": "code",
   "execution_count": 2,
   "metadata": {},
   "outputs": [
    {
     "data": {
      "text/plain": [
       "'3.6.10'"
      ]
     },
     "execution_count": 2,
     "metadata": {},
     "output_type": "execute_result"
    }
   ],
   "source": [
    "import platform\n",
    "platform.python_version()"
   ]
  },
  {
   "cell_type": "code",
   "execution_count": 3,
   "metadata": {},
   "outputs": [],
   "source": [
    "# !pip install tensorflow==2.1\n",
    "# !pip install keras==2.3.1"
   ]
  },
  {
   "cell_type": "code",
   "execution_count": 4,
   "metadata": {
    "id": "uY4XWwKFWvDI",
    "scrolled": false
   },
   "outputs": [],
   "source": [
    "import cv2\n",
    "import scipy.io\n",
    "import os\n",
    "import gc\n",
    "import sklearn.preprocessing\n",
    "import matplotlib\n",
    "import tensorflow\n",
    "import keras.optimizers\n",
    "import warnings\n",
    "import scipy.io as sio\n",
    "import tensorflow as tf\n",
    "import matplotlib.pyplot as plt\n",
    "import tensorflow_hub as hub\n",
    "import numpy as np\n",
    "import networkx as nx\n",
    "import pandas as pd\n",
    "from matplotlib.animation import FuncAnimation, PillowWriter \n",
    "from keras import backend as K\n",
    "from keras.models import Sequential\n",
    "from keras.regularizers import l2\n",
    "from keras.models import Model\n",
    "from keras.layers.core import Dense, Dropout, Flatten\n",
    "from keras.layers.convolutional import Conv3D, MaxPooling3D, ZeroPadding3D, AveragePooling3D \n",
    "from tensorflow.keras.layers import BatchNormalization, Activation, Input\n",
    "from tensorflow.keras import layers\n",
    "from PIL import Image\n",
    "# from scipy.misc import imresize\n",
    "from keras.models import model_from_json\n",
    "from datetime import datetime\n",
    "from keras.utils.data_utils import get_file\n",
    "from keras.utils.layer_utils import get_source_inputs\n",
    "from keras.utils import layer_utils\n",
    "import matplotlib.pyplot as plt\n",
    "matplotlib.use('Agg')\n",
    "%matplotlib inline"
   ]
  },
  {
   "cell_type": "code",
   "execution_count": 5,
   "metadata": {
    "id": "neu6BXJwA6WG"
   },
   "outputs": [],
   "source": [
    "from keras import layers\n",
    "from keras.layers import Activation\n",
    "from keras.layers import Dense\n",
    "from keras.layers import Input\n",
    "from keras.layers import BatchNormalization\n",
    "from keras.layers import Conv3D\n",
    "from keras.layers import MaxPooling3D\n",
    "from keras.layers import AveragePooling3D\n",
    "from keras.layers import Dropout\n",
    "from keras.layers import Reshape\n",
    "from keras.layers import Lambda\n",
    "from keras.layers import GlobalAveragePooling3D"
   ]
  },
  {
   "cell_type": "code",
   "execution_count": 6,
   "metadata": {
    "id": "2CQgeb90Xijg"
   },
   "outputs": [],
   "source": [
    "C3D_MEAN_PATH = 'https://github.com/adamcasson/c3d/releases/download/v0.1/c3d_mean.npy'"
   ]
  },
  {
   "cell_type": "code",
   "execution_count": 8,
   "metadata": {
    "colab": {
     "base_uri": "https://localhost:8080/"
    },
    "id": "cy783NF3-YLG",
    "outputId": "3ac99903-c9f4-416c-ccb8-9ac2b160b4fc"
   },
   "outputs": [],
   "source": [
    "# from google.colab import drive\n",
    "# drive.mount('/content/drive')"
   ]
  },
  {
   "cell_type": "markdown",
   "metadata": {
    "id": "BOTjHUZQY_Ze"
   },
   "source": [
    "## Parameters"
   ]
  },
  {
   "cell_type": "code",
   "execution_count": 9,
   "metadata": {
    "id": "TfmFHfAlYToJ"
   },
   "outputs": [],
   "source": [
    "c3d_model_weights = 'E:/LY Project/C3D_Sport1M_weights_keras_2.2.4.h5'\n",
    "abnormal_videos_path=\"E:/LY Project/Anomaly Videos\"\n",
    "normal_videos_path=\"E:/LY Project/Training-Normal-Videos-Part-2\"\n",
    "raw_normal_train_features_c3d=\"E:/LY Project/Raw Normal videos features C3d\"\n",
    "raw_abnormal_train_features_c3d=\"E:/LY Project/Raw Anomaly videos features C3d\"\n",
    "processed_normal_train_features_c3d=\"E:/LY Project/Pre-processed Normal Video features C3d\"\n",
    "processed_abnormal_train_features_c3d=\"E:/LY Project/Pre-processed Anomaly video features C3d\"\n",
    "raw_normal_train_features_i3d=\"E:/LY Project/Raw Normal videos features i3d\"\n",
    "raw_abnormal_train_features_i3d=\"E:/LY Project/Raw Anomaly videos features i3d\"\n",
    "processed_normal_train_features_i3d=\"E:/LY Project/Pre-processed Normal Video features i3d\"\n",
    "processed_abnormal_train_features_i3d=\"E:/LY Project/Pre-processed Anomaly video features i3d\"\n",
    "output_dir = \"E:/LY Project/Trained_models/\"\n",
    "output_folder_c3d = 'E:/LY Project/output_videos'\n",
    "output_folder_i3d = 'E:/LY Project/output_videos_i3d'"
   ]
  },
  {
   "cell_type": "code",
   "execution_count": 11,
   "metadata": {
    "id": "3_Q2mN44Yb6T"
   },
   "outputs": [],
   "source": [
    "frame_height = 240\n",
    "frame_width = 320\n",
    "channels = 3\n",
    "\n",
    "c3d_frame_count = 16\n"
   ]
  },
  {
   "cell_type": "code",
   "execution_count": 12,
   "metadata": {
    "id": "QP-zhH9HGhn4"
   },
   "outputs": [],
   "source": [
    "features_per_bag = 32"
   ]
  },
  {
   "cell_type": "markdown",
   "metadata": {
    "id": "h0d-SfyjooKD"
   },
   "source": [
    "## Chunks work"
   ]
  },
  {
   "cell_type": "code",
   "execution_count": 13,
   "metadata": {
    "id": "EQrbeOpDof_R"
   },
   "outputs": [],
   "source": [
    "def divide_chunks(l, n):\n",
    "    \"\"\"Apply divide_chunks to an array, getting chunks of\n",
    "    of specified size\n",
    "    \"\"\"\n",
    "    for i in range(0, len(l), n): \n",
    "        yield l[i:i + n]"
   ]
  },
  {
   "cell_type": "markdown",
   "metadata": {
    "id": "uUHtf1rrY83b"
   },
   "source": [
    "## Array Util"
   ]
  },
  {
   "cell_type": "code",
   "execution_count": 14,
   "metadata": {
    "id": "qoMmbjroYnQ5"
   },
   "outputs": [],
   "source": [
    "def sliding_window(arr, size, stride):\n",
    "    \"\"\"Apply sliding window to an array, getting chunks of\n",
    "    of specified size using the specified stride\n",
    "    :param arr: Array to be divided\n",
    "    :param size: Size of the chunks\n",
    "    :param stride: Number of frames to skip for the next chunk\n",
    "    :returns: Tensor with the resulting chunks\n",
    "    :rtype: np.ndarray\n",
    "    \"\"\"\n",
    "    num_chunks = int((len(arr) - size) / stride) + 2\n",
    "    result = []\n",
    "    for i in range(0,  num_chunks * stride, stride):\n",
    "        if len(arr[i:i + size]) > 0:\n",
    "            result.append(arr[i:i + size])\n",
    "    return np.array(result)\n",
    "\n",
    "\n",
    "def interpolate(features, features_per_bag):\n",
    "    \"\"\"Transform a bag with an arbitrary number of features into a bag\n",
    "    with a fixed amount, using interpolation of consecutive features\n",
    "    :param features: Bag of features to pad\n",
    "    :param features_per_bag: Number of features to obtain\n",
    "    :returns: Interpolated features\n",
    "    :rtype: np.ndarray\n",
    "    \"\"\"\n",
    "#     feature_size = np.array(features).shape[0]\n",
    "    feature_size = np.array(features).shape[1]\n",
    "    interpolated_features = np.zeros((features_per_bag, feature_size))\n",
    "    interpolation_indices = np.round(np.linspace(0, len(features) - 1, num=features_per_bag + 1))\n",
    "    count = 0\n",
    "    for index in range(0, len(interpolation_indices)-1):\n",
    "        start = int(interpolation_indices[index])\n",
    "        end = int(interpolation_indices[index + 1])\n",
    "\n",
    "        assert end >= start\n",
    "\n",
    "        if start == end:\n",
    "            temp_vect = features[start, :]\n",
    "        else:\n",
    "            temp_vect = np.mean(features[start:end+1, :], axis=0)\n",
    "\n",
    "        temp_vect = temp_vect / np.linalg.norm(temp_vect)\n",
    "\n",
    "        if np.linalg.norm(temp_vect) == 0:\n",
    "            print(\"Error\")\n",
    "\n",
    "        interpolated_features[count,:]=temp_vect\n",
    "        count = count + 1\n",
    "    del interpolation_indices\n",
    "    gc.collect(generation=2)\n",
    "    return np.array(interpolated_features)\n",
    "\n",
    "\n",
    "def extrapolate(outputs, num_frames):\n",
    "    \"\"\"Expand output to match the video length\n",
    "    :param outputs: Array of predicted outputs\n",
    "    :param num_frames: Expected size of the output array\n",
    "    :returns: Array of output size\n",
    "    :rtype: np.ndarray\n",
    "    \"\"\"\n",
    "\n",
    "    extrapolated_outputs = []\n",
    "    extrapolation_indices = np.round(np.linspace(0, len(outputs) - 1, num=num_frames))\n",
    "    for index in extrapolation_indices:\n",
    "        extrapolated_outputs.append(outputs[int(index)])\n",
    "    del extrapolation_indices\n",
    "    gc.collect(generation=2)\n",
    "    return np.array(extrapolated_outputs)"
   ]
  },
  {
   "cell_type": "markdown",
   "metadata": {
    "id": "4slLmqd_ZFej"
   },
   "source": [
    "# Video Util"
   ]
  },
  {
   "cell_type": "code",
   "execution_count": 15,
   "metadata": {
    "id": "abpVcpA1Y6aT"
   },
   "outputs": [],
   "source": [
    "def get_video_clips(video_path, frame_count):\n",
    "    \"\"\"Divides the input video into non-overlapping clips\n",
    "    :param video_path: Path to the video\n",
    "    :returns: Array with the fragments of video\n",
    "    :rtype: np.ndarray\n",
    "    \"\"\"\n",
    "    frames = get_video_frames(video_path)\n",
    "    clips = sliding_window(frames, frame_count, frame_count)\n",
    "    return clips, len(frames)"
   ]
  },
  {
   "cell_type": "code",
   "execution_count": 16,
   "metadata": {
    "id": "T-zPMiagG26K"
   },
   "outputs": [],
   "source": [
    "def get_video_frames(video_path):\n",
    "    \"\"\"Reads the video given a file path\n",
    "    :param video_path: Path to the video\n",
    "    :returns: Video as an array of frames\n",
    "    :rtype: np.ndarray\n",
    "    \"\"\"\n",
    "    cap = cv2.VideoCapture(video_path)\n",
    "    frames = []\n",
    "    while (cap.isOpened()):\n",
    "        ret, frame = cap.read()\n",
    "        if ret == True:\n",
    "            frames.append(cv2.cvtColor(frame, cv2.COLOR_BGR2RGB))\n",
    "            del frame\n",
    "        else:\n",
    "            break\n",
    "    cap.release()\n",
    "    del cap\n",
    "    gc.collect(generation=2)\n",
    "    return frames"
   ]
  },
  {
   "cell_type": "markdown",
   "metadata": {
    "id": "91Whhz7wYjv4"
   },
   "source": [
    "# Video pre-processing C3d\n",
    "\n",
    "---\n",
    "\n"
   ]
  },
  {
   "cell_type": "code",
   "execution_count": 17,
   "metadata": {
    "id": "POQ5Ob3HYme8"
   },
   "outputs": [],
   "source": [
    "def preprocess_input_c3d(video):\n",
    "    \"\"\"Preprocess video input to make it suitable for feature extraction.\n",
    "    The video is resized, cropped, resampled and training mean is substracted\n",
    "    to make it suitable for the network\n",
    "    :param video: Video to be processed\n",
    "    :returns: Preprocessed video\n",
    "    :rtype: np.ndarray\n",
    "    \"\"\"\n",
    "\n",
    "    intervals = np.ceil(np.linspace(0, video.shape[0] - 1, 16)).astype(int)\n",
    "    frames = video[intervals]\n",
    "\n",
    "    # Reshape to 128x171\n",
    "    reshape_frames = np.zeros((frames.shape[0], 128, 171, frames.shape[3]))\n",
    "    for i, img in enumerate(frames):\n",
    "#         heatmap = imresize(heatmap, input_dims, interp='bicubic', mode='F')\n",
    "# heatmap = np.array(Image.fromarray(obj=heatmap, mode='F').resize(size=input_dims, resample=Image.BICUBIC))\n",
    "# img = np.array(Image.fromarray(obj=img).resize(size=(128, 171), resample =Image.BICUBIC))\n",
    "#         img = imresize(img, (128, 171), 'bicubic')\n",
    "        img = np.array(Image.fromarray(obj=img).resize(size=(171, 128), resample =Image.BICUBIC))\n",
    "        reshape_frames[i, :, :, :] = img\n",
    "        del img\n",
    "\n",
    "    mean_path = get_file('c3d_mean.npy',\n",
    "                         C3D_MEAN_PATH,\n",
    "                         cache_subdir='models',\n",
    "                         md5_hash='08a07d9761e76097985124d9e8b2fe34')\n",
    "\n",
    "    mean = np.load(mean_path)\n",
    "    reshape_frames -= mean\n",
    "    # Crop to 112x112\n",
    "    reshape_frames = reshape_frames[:, 8:120, 30:142, :]\n",
    "    # Add extra dimension for samples\n",
    "    reshape_frames = np.expand_dims(reshape_frames, axis=0)\n",
    "    del intervals\n",
    "    del frames\n",
    "    gc.collect(generation=2)\n",
    "    return reshape_frames"
   ]
  },
  {
   "cell_type": "markdown",
   "metadata": {
    "id": "B0zyF-v_CZCg"
   },
   "source": [
    "# Segment Utils"
   ]
  },
  {
   "cell_type": "code",
   "execution_count": 19,
   "metadata": {
    "id": "VCvamAy-hmlf"
   },
   "outputs": [],
   "source": [
    "def transform_into_segments(features, n_segments=32):\n",
    "    \"\"\"This will convert the vector \n",
    "    into 32 segments of feature vectors\"\"\"\n",
    "    if features.shape[0] < n_segments:\n",
    "        raise RuntimeError(\n",
    "            \"Number of prev segments lesser than expected output size\"\n",
    "        )\n",
    "\n",
    "    cuts = np.linspace(0, features.shape[0], n_segments,\n",
    "                       dtype=int, endpoint=False)\n",
    "\n",
    "    new_feats = []\n",
    "    for i, j in zip(cuts[:-1], cuts[1:]):\n",
    "        new_feats.append(np.mean(features[i:j,:], axis=0))\n",
    "\n",
    "    new_feats.append(np.mean(features[cuts[-1]:,:], axis=0))\n",
    "\n",
    "    new_feats = np.array(new_feats)\n",
    "    new_feats = sklearn.preprocessing.normalize(new_feats, axis=1)\n",
    "    del cuts\n",
    "    gc.collect(generation=2)\n",
    "    return new_feats"
   ]
  },
  {
   "cell_type": "markdown",
   "metadata": {
    "id": "LjY1bDQCbxMr"
   },
   "source": [
    "# C3d"
   ]
  },
  {
   "cell_type": "code",
   "execution_count": 20,
   "metadata": {
    "id": "L-fcmxrtbeQX"
   },
   "outputs": [],
   "source": [
    "def C3D(weights='sports1M'):\n",
    "    \"\"\"Creation of the full C3D architecture\n",
    "    :param weights: Weights to be loaded into the network. If None,\n",
    "    the network is randomly initialized.\n",
    "    :returns: Network model\n",
    "    :rtype: keras.model\n",
    "    \"\"\"\n",
    "\n",
    "    if weights not in {'sports1M', None}:\n",
    "        raise ValueError('weights should be either be sports1M or None')\n",
    "\n",
    "    if K.image_data_format() == 'channels_last':\n",
    "        shape = (16, 112, 112, 3)\n",
    "    else:\n",
    "        shape = (3, 16, 112, 112)\n",
    "\n",
    "    model = Sequential()\n",
    "    model.add(\n",
    "        Conv3D(64,\n",
    "               3,\n",
    "               activation='relu',\n",
    "               padding='same',\n",
    "               name='conv1',\n",
    "               input_shape=shape))\n",
    "    model.add(\n",
    "        MaxPooling3D(pool_size=(1, 2, 2),\n",
    "                     strides=(1, 2, 2),\n",
    "                     padding='same',\n",
    "                     name='pool1'))\n",
    "\n",
    "    model.add(Conv3D(128, 3, activation='relu', padding='same', name='conv2'))\n",
    "    model.add(\n",
    "        MaxPooling3D(pool_size=(2, 2, 2),\n",
    "                     strides=(2, 2, 2),\n",
    "                     padding='valid',\n",
    "                     name='pool2'))\n",
    "\n",
    "    model.add(Conv3D(256, 3, activation='relu', padding='same', name='conv3a'))\n",
    "    model.add(Conv3D(256, 3, activation='relu', padding='same', name='conv3b'))\n",
    "    model.add(\n",
    "        MaxPooling3D(pool_size=(2, 2, 2),\n",
    "                     strides=(2, 2, 2),\n",
    "                     padding='valid',\n",
    "                     name='pool3'))\n",
    "\n",
    "    model.add(Conv3D(512, 3, activation='relu', padding='same', name='conv4a'))\n",
    "    model.add(Conv3D(512, 3, activation='relu', padding='same', name='conv4b'))\n",
    "    model.add(\n",
    "        MaxPooling3D(pool_size=(2, 2, 2),\n",
    "                     strides=(2, 2, 2),\n",
    "                     padding='valid',\n",
    "                     name='pool4'))\n",
    "\n",
    "    model.add(Conv3D(512, 3, activation='relu', padding='same', name='conv5a'))\n",
    "    model.add(Conv3D(512, 3, activation='relu', padding='same', name='conv5b'))\n",
    "    model.add(ZeroPadding3D(padding=(0, 1, 1)))\n",
    "    model.add(\n",
    "        MaxPooling3D(pool_size=(2, 2, 2),\n",
    "                     strides=(2, 2, 2),\n",
    "                     padding='valid',\n",
    "                     name='pool5'))\n",
    "\n",
    "    model.add(Flatten())\n",
    "\n",
    "    model.add(Dense(4096, activation='relu', name='fc6'))\n",
    "    model.add(Dropout(0.5))\n",
    "    model.add(Dense(4096, activation='relu', name='fc7'))\n",
    "    model.add(Dropout(0.5))\n",
    "    model.add(Dense(487, activation='softmax', name='fc8'))\n",
    "\n",
    "    if weights == 'sports1M':\n",
    "        model.load_weights(c3d_model_weights)\n",
    "\n",
    "    return model"
   ]
  },
  {
   "cell_type": "code",
   "execution_count": 21,
   "metadata": {
    "id": "mMPYnJ3mb3-x"
   },
   "outputs": [],
   "source": [
    "def c3d_feature_extractor():\n",
    "    \"\"\"Creation of the feature extraction architecture. This network is\n",
    "    formed by a subset of the original C3D architecture (from the\n",
    "    beginning to fc6 layer)\n",
    "    :returns: Feature extraction model\n",
    "    :rtype: keras.model\n",
    "    \"\"\"\n",
    "    model = C3D()\n",
    "    layer_name = 'fc6'\n",
    "    feature_extractor_model = Model(inputs=model.input,\n",
    "                                    outputs=model.get_layer(layer_name).output)\n",
    "    return feature_extractor_model"
   ]
  },
  {
   "cell_type": "code",
   "execution_count": 22,
   "metadata": {
    "id": "rQmNkfJIcMZT"
   },
   "outputs": [],
   "source": [
    "feature_extractor = c3d_feature_extractor()"
   ]
  },
  {
   "cell_type": "markdown",
   "metadata": {
    "id": "VBYYYvCbcJTm"
   },
   "source": [
    "# Extract Features"
   ]
  },
  {
   "cell_type": "markdown",
   "metadata": {
    "id": "VNtaMomVcbP7"
   },
   "source": [
    "## Normal Videos"
   ]
  },
  {
   "cell_type": "code",
   "execution_count": 28,
   "metadata": {
    "id": "GJs9rMnoQTm5"
   },
   "outputs": [],
   "source": [
    "normal_videos = os.listdir(normal_videos_path)\n",
    "normal_videos.sort()\n",
    "chunk = list(divide_chunks(normal_videos, 5))"
   ]
  },
  {
   "cell_type": "markdown",
   "metadata": {},
   "source": [
    "### C3d"
   ]
  },
  {
   "cell_type": "code",
   "execution_count": null,
   "metadata": {
    "scrolled": true
   },
   "outputs": [
    {
     "name": "stdout",
     "output_type": "stream",
     "text": [
      "Processing normal videos in chunks...\n",
      "Processing Normal_Videos548_x264.mp4\n"
     ]
    },
    {
     "name": "stderr",
     "output_type": "stream",
     "text": [
      "C:\\ProgramData\\Anaconda3\\envs\\py35\\lib\\site-packages\\ipykernel_launcher.py:15: VisibleDeprecationWarning: Creating an ndarray from ragged nested sequences (which is a list-or-tuple of lists-or-tuples-or ndarrays with different lengths or shapes) is deprecated. If you meant to do this, you must specify 'dtype=object' when creating the ndarray\n",
      "  from ipykernel import kernelapp as app\n"
     ]
    },
    {
     "name": "stdout",
     "output_type": "stream",
     "text": [
      "84225\n",
      "Processing Normal_Videos549_x264.mp4\n",
      "9264\n",
      "Processing Normal_Videos550_x264.mp4\n",
      "8484\n",
      "Processing Normal_Videos551_x264.mp4\n",
      "54000\n",
      "Processing Normal_Videos552_x264.mp4\n",
      "4283\n",
      "Processing Normal_Videos553_x264.mp4\n"
     ]
    },
    {
     "name": "stderr",
     "output_type": "stream",
     "text": [
      "C:\\ProgramData\\Anaconda3\\envs\\py35\\lib\\site-packages\\ipykernel_launcher.py:15: VisibleDeprecationWarning: Creating an ndarray from ragged nested sequences (which is a list-or-tuple of lists-or-tuples-or ndarrays with different lengths or shapes) is deprecated. If you meant to do this, you must specify 'dtype=object' when creating the ndarray\n",
      "  from ipykernel import kernelapp as app\n"
     ]
    },
    {
     "name": "stdout",
     "output_type": "stream",
     "text": [
      "12126\n",
      "Processing Normal_Videos554_x264.mp4\n",
      "3200\n",
      "Processing Normal_Videos555_x264.mp4\n"
     ]
    },
    {
     "name": "stderr",
     "output_type": "stream",
     "text": [
      "C:\\ProgramData\\Anaconda3\\envs\\py35\\lib\\site-packages\\ipykernel_launcher.py:15: VisibleDeprecationWarning: Creating an ndarray from ragged nested sequences (which is a list-or-tuple of lists-or-tuples-or ndarrays with different lengths or shapes) is deprecated. If you meant to do this, you must specify 'dtype=object' when creating the ndarray\n",
      "  from ipykernel import kernelapp as app\n"
     ]
    },
    {
     "name": "stdout",
     "output_type": "stream",
     "text": [
      "846\n",
      "Processing Normal_Videos556_x264.mp4\n"
     ]
    },
    {
     "name": "stderr",
     "output_type": "stream",
     "text": [
      "C:\\ProgramData\\Anaconda3\\envs\\py35\\lib\\site-packages\\ipykernel_launcher.py:15: VisibleDeprecationWarning: Creating an ndarray from ragged nested sequences (which is a list-or-tuple of lists-or-tuples-or ndarrays with different lengths or shapes) is deprecated. If you meant to do this, you must specify 'dtype=object' when creating the ndarray\n",
      "  from ipykernel import kernelapp as app\n"
     ]
    },
    {
     "name": "stdout",
     "output_type": "stream",
     "text": [
      "69122\n",
      "Processing Normal_Videos557_x264.mp4\n",
      "18401\n",
      "Processing Normal_Videos558_x264.mp4\n",
      "1637\n",
      "Processing Normal_Videos559_x264.mp4\n"
     ]
    },
    {
     "name": "stderr",
     "output_type": "stream",
     "text": [
      "C:\\ProgramData\\Anaconda3\\envs\\py35\\lib\\site-packages\\ipykernel_launcher.py:15: VisibleDeprecationWarning: Creating an ndarray from ragged nested sequences (which is a list-or-tuple of lists-or-tuples-or ndarrays with different lengths or shapes) is deprecated. If you meant to do this, you must specify 'dtype=object' when creating the ndarray\n",
      "  from ipykernel import kernelapp as app\n"
     ]
    },
    {
     "name": "stdout",
     "output_type": "stream",
     "text": [
      "19830\n",
      "Processing Normal_Videos560_x264.mp4\n",
      "18201\n",
      "Processing Normal_Videos561_x264.mp4\n",
      "21362\n",
      "Processing Normal_Videos562_x264.mp4\n",
      "27073\n",
      "Processing Normal_Videos563_x264.mp4\n",
      "82410\n",
      "Processing Normal_Videos564_x264.mp4\n",
      "15279\n",
      "Processing Normal_Videos565_x264.mp4\n",
      "53606\n",
      "Processing Normal_Videos566_x264.mp4\n",
      "26994\n",
      "Processing Normal_Videos567_x264.mp4\n",
      "5459\n",
      "Processing Normal_Videos568_x264.mp4\n"
     ]
    },
    {
     "name": "stderr",
     "output_type": "stream",
     "text": [
      "C:\\ProgramData\\Anaconda3\\envs\\py35\\lib\\site-packages\\ipykernel_launcher.py:15: VisibleDeprecationWarning: Creating an ndarray from ragged nested sequences (which is a list-or-tuple of lists-or-tuples-or ndarrays with different lengths or shapes) is deprecated. If you meant to do this, you must specify 'dtype=object' when creating the ndarray\n",
      "  from ipykernel import kernelapp as app\n"
     ]
    },
    {
     "name": "stdout",
     "output_type": "stream",
     "text": [
      "7079\n",
      "Processing Normal_Videos569_x264.mp4\n"
     ]
    },
    {
     "name": "stderr",
     "output_type": "stream",
     "text": [
      "C:\\ProgramData\\Anaconda3\\envs\\py35\\lib\\site-packages\\ipykernel_launcher.py:15: VisibleDeprecationWarning: Creating an ndarray from ragged nested sequences (which is a list-or-tuple of lists-or-tuples-or ndarrays with different lengths or shapes) is deprecated. If you meant to do this, you must specify 'dtype=object' when creating the ndarray\n",
      "  from ipykernel import kernelapp as app\n"
     ]
    },
    {
     "name": "stdout",
     "output_type": "stream",
     "text": [
      "2916\n",
      "Processing Normal_Videos570_x264.mp4\n"
     ]
    },
    {
     "name": "stderr",
     "output_type": "stream",
     "text": [
      "C:\\ProgramData\\Anaconda3\\envs\\py35\\lib\\site-packages\\ipykernel_launcher.py:15: VisibleDeprecationWarning: Creating an ndarray from ragged nested sequences (which is a list-or-tuple of lists-or-tuples-or ndarrays with different lengths or shapes) is deprecated. If you meant to do this, you must specify 'dtype=object' when creating the ndarray\n",
      "  from ipykernel import kernelapp as app\n"
     ]
    },
    {
     "name": "stdout",
     "output_type": "stream",
     "text": [
      "847\n",
      "Processing Normal_Videos571_x264.mp4\n"
     ]
    },
    {
     "name": "stderr",
     "output_type": "stream",
     "text": [
      "C:\\ProgramData\\Anaconda3\\envs\\py35\\lib\\site-packages\\ipykernel_launcher.py:15: VisibleDeprecationWarning: Creating an ndarray from ragged nested sequences (which is a list-or-tuple of lists-or-tuples-or ndarrays with different lengths or shapes) is deprecated. If you meant to do this, you must specify 'dtype=object' when creating the ndarray\n",
      "  from ipykernel import kernelapp as app\n"
     ]
    },
    {
     "name": "stdout",
     "output_type": "stream",
     "text": [
      "2121\n",
      "Processing Normal_Videos572_x264.mp4\n"
     ]
    },
    {
     "name": "stderr",
     "output_type": "stream",
     "text": [
      "C:\\ProgramData\\Anaconda3\\envs\\py35\\lib\\site-packages\\ipykernel_launcher.py:15: VisibleDeprecationWarning: Creating an ndarray from ragged nested sequences (which is a list-or-tuple of lists-or-tuples-or ndarrays with different lengths or shapes) is deprecated. If you meant to do this, you must specify 'dtype=object' when creating the ndarray\n",
      "  from ipykernel import kernelapp as app\n"
     ]
    },
    {
     "name": "stdout",
     "output_type": "stream",
     "text": [
      "4428\n",
      "Processing Normal_Videos573_x264.mp4\n"
     ]
    },
    {
     "name": "stderr",
     "output_type": "stream",
     "text": [
      "C:\\ProgramData\\Anaconda3\\envs\\py35\\lib\\site-packages\\ipykernel_launcher.py:15: VisibleDeprecationWarning: Creating an ndarray from ragged nested sequences (which is a list-or-tuple of lists-or-tuples-or ndarrays with different lengths or shapes) is deprecated. If you meant to do this, you must specify 'dtype=object' when creating the ndarray\n",
      "  from ipykernel import kernelapp as app\n"
     ]
    },
    {
     "name": "stdout",
     "output_type": "stream",
     "text": [
      "3944\n",
      "Processing Normal_Videos574_x264.mp4\n"
     ]
    },
    {
     "name": "stderr",
     "output_type": "stream",
     "text": [
      "C:\\ProgramData\\Anaconda3\\envs\\py35\\lib\\site-packages\\ipykernel_launcher.py:15: VisibleDeprecationWarning: Creating an ndarray from ragged nested sequences (which is a list-or-tuple of lists-or-tuples-or ndarrays with different lengths or shapes) is deprecated. If you meant to do this, you must specify 'dtype=object' when creating the ndarray\n",
      "  from ipykernel import kernelapp as app\n"
     ]
    },
    {
     "name": "stdout",
     "output_type": "stream",
     "text": [
      "9914\n",
      "Processing Normal_Videos575_x264.mp4\n",
      "3676\n",
      "Processing Normal_Videos577_x264.mp4\n"
     ]
    },
    {
     "name": "stderr",
     "output_type": "stream",
     "text": [
      "C:\\ProgramData\\Anaconda3\\envs\\py35\\lib\\site-packages\\ipykernel_launcher.py:15: VisibleDeprecationWarning: Creating an ndarray from ragged nested sequences (which is a list-or-tuple of lists-or-tuples-or ndarrays with different lengths or shapes) is deprecated. If you meant to do this, you must specify 'dtype=object' when creating the ndarray\n",
      "  from ipykernel import kernelapp as app\n"
     ]
    },
    {
     "name": "stdout",
     "output_type": "stream",
     "text": [
      "7733\n",
      "Processing Normal_Videos578_x264.mp4\n"
     ]
    },
    {
     "name": "stderr",
     "output_type": "stream",
     "text": [
      "C:\\ProgramData\\Anaconda3\\envs\\py35\\lib\\site-packages\\ipykernel_launcher.py:15: VisibleDeprecationWarning: Creating an ndarray from ragged nested sequences (which is a list-or-tuple of lists-or-tuples-or ndarrays with different lengths or shapes) is deprecated. If you meant to do this, you must specify 'dtype=object' when creating the ndarray\n",
      "  from ipykernel import kernelapp as app\n"
     ]
    },
    {
     "name": "stdout",
     "output_type": "stream",
     "text": [
      "4423\n",
      "Processing Normal_Videos579_x264.mp4\n"
     ]
    },
    {
     "name": "stderr",
     "output_type": "stream",
     "text": [
      "C:\\ProgramData\\Anaconda3\\envs\\py35\\lib\\site-packages\\ipykernel_launcher.py:15: VisibleDeprecationWarning: Creating an ndarray from ragged nested sequences (which is a list-or-tuple of lists-or-tuples-or ndarrays with different lengths or shapes) is deprecated. If you meant to do this, you must specify 'dtype=object' when creating the ndarray\n",
      "  from ipykernel import kernelapp as app\n"
     ]
    },
    {
     "name": "stdout",
     "output_type": "stream",
     "text": [
      "18419\n",
      "Processing Normal_Videos580_x264.mp4\n",
      "3599\n",
      "Processing Normal_Videos581_x264.mp4\n"
     ]
    },
    {
     "name": "stderr",
     "output_type": "stream",
     "text": [
      "C:\\ProgramData\\Anaconda3\\envs\\py35\\lib\\site-packages\\ipykernel_launcher.py:15: VisibleDeprecationWarning: Creating an ndarray from ragged nested sequences (which is a list-or-tuple of lists-or-tuples-or ndarrays with different lengths or shapes) is deprecated. If you meant to do this, you must specify 'dtype=object' when creating the ndarray\n",
      "  from ipykernel import kernelapp as app\n"
     ]
    },
    {
     "name": "stdout",
     "output_type": "stream",
     "text": [
      "2687\n",
      "Processing Normal_Videos582_x264.mp4\n"
     ]
    },
    {
     "name": "stderr",
     "output_type": "stream",
     "text": [
      "C:\\ProgramData\\Anaconda3\\envs\\py35\\lib\\site-packages\\ipykernel_launcher.py:15: VisibleDeprecationWarning: Creating an ndarray from ragged nested sequences (which is a list-or-tuple of lists-or-tuples-or ndarrays with different lengths or shapes) is deprecated. If you meant to do this, you must specify 'dtype=object' when creating the ndarray\n",
      "  from ipykernel import kernelapp as app\n"
     ]
    },
    {
     "name": "stdout",
     "output_type": "stream",
     "text": [
      "4246\n",
      "Processing Normal_Videos583_x264.mp4\n",
      "6224\n",
      "Processing Normal_Videos584_x264.mp4\n"
     ]
    },
    {
     "name": "stderr",
     "output_type": "stream",
     "text": [
      "C:\\ProgramData\\Anaconda3\\envs\\py35\\lib\\site-packages\\ipykernel_launcher.py:15: VisibleDeprecationWarning: Creating an ndarray from ragged nested sequences (which is a list-or-tuple of lists-or-tuples-or ndarrays with different lengths or shapes) is deprecated. If you meant to do this, you must specify 'dtype=object' when creating the ndarray\n",
      "  from ipykernel import kernelapp as app\n"
     ]
    },
    {
     "name": "stdout",
     "output_type": "stream",
     "text": [
      "8983\n",
      "Processing Normal_Videos585_x264.mp4\n",
      "1789\n",
      "Processing Normal_Videos586_x264.mp4\n"
     ]
    },
    {
     "name": "stderr",
     "output_type": "stream",
     "text": [
      "C:\\ProgramData\\Anaconda3\\envs\\py35\\lib\\site-packages\\ipykernel_launcher.py:15: VisibleDeprecationWarning: Creating an ndarray from ragged nested sequences (which is a list-or-tuple of lists-or-tuples-or ndarrays with different lengths or shapes) is deprecated. If you meant to do this, you must specify 'dtype=object' when creating the ndarray\n",
      "  from ipykernel import kernelapp as app\n"
     ]
    },
    {
     "name": "stdout",
     "output_type": "stream",
     "text": [
      "1588\n",
      "Processing Normal_Videos587_x264.mp4\n"
     ]
    },
    {
     "name": "stderr",
     "output_type": "stream",
     "text": [
      "C:\\ProgramData\\Anaconda3\\envs\\py35\\lib\\site-packages\\ipykernel_launcher.py:15: VisibleDeprecationWarning: Creating an ndarray from ragged nested sequences (which is a list-or-tuple of lists-or-tuples-or ndarrays with different lengths or shapes) is deprecated. If you meant to do this, you must specify 'dtype=object' when creating the ndarray\n",
      "  from ipykernel import kernelapp as app\n"
     ]
    },
    {
     "name": "stdout",
     "output_type": "stream",
     "text": [
      "8693\n",
      "Processing Normal_Videos588_x264.mp4\n",
      "7587\n",
      "Processing Normal_Videos589_x264.mp4\n"
     ]
    },
    {
     "name": "stderr",
     "output_type": "stream",
     "text": [
      "C:\\ProgramData\\Anaconda3\\envs\\py35\\lib\\site-packages\\ipykernel_launcher.py:15: VisibleDeprecationWarning: Creating an ndarray from ragged nested sequences (which is a list-or-tuple of lists-or-tuples-or ndarrays with different lengths or shapes) is deprecated. If you meant to do this, you must specify 'dtype=object' when creating the ndarray\n",
      "  from ipykernel import kernelapp as app\n"
     ]
    },
    {
     "name": "stdout",
     "output_type": "stream",
     "text": [
      "5239\n",
      "Processing Normal_Videos590_x264.mp4\n"
     ]
    },
    {
     "name": "stderr",
     "output_type": "stream",
     "text": [
      "C:\\ProgramData\\Anaconda3\\envs\\py35\\lib\\site-packages\\ipykernel_launcher.py:15: VisibleDeprecationWarning: Creating an ndarray from ragged nested sequences (which is a list-or-tuple of lists-or-tuples-or ndarrays with different lengths or shapes) is deprecated. If you meant to do this, you must specify 'dtype=object' when creating the ndarray\n",
      "  from ipykernel import kernelapp as app\n"
     ]
    },
    {
     "name": "stdout",
     "output_type": "stream",
     "text": [
      "8989\n",
      "Processing Normal_Videos591_x264.mp4\n",
      "9030\n",
      "Processing Normal_Videos592_x264.mp4\n",
      "2571\n",
      "Processing Normal_Videos593_x264.mp4\n"
     ]
    },
    {
     "name": "stderr",
     "output_type": "stream",
     "text": [
      "C:\\ProgramData\\Anaconda3\\envs\\py35\\lib\\site-packages\\ipykernel_launcher.py:15: VisibleDeprecationWarning: Creating an ndarray from ragged nested sequences (which is a list-or-tuple of lists-or-tuples-or ndarrays with different lengths or shapes) is deprecated. If you meant to do this, you must specify 'dtype=object' when creating the ndarray\n",
      "  from ipykernel import kernelapp as app\n"
     ]
    },
    {
     "name": "stdout",
     "output_type": "stream",
     "text": [
      "2609\n",
      "Processing Normal_Videos594_x264.mp4\n"
     ]
    },
    {
     "name": "stderr",
     "output_type": "stream",
     "text": [
      "C:\\ProgramData\\Anaconda3\\envs\\py35\\lib\\site-packages\\ipykernel_launcher.py:15: VisibleDeprecationWarning: Creating an ndarray from ragged nested sequences (which is a list-or-tuple of lists-or-tuples-or ndarrays with different lengths or shapes) is deprecated. If you meant to do this, you must specify 'dtype=object' when creating the ndarray\n",
      "  from ipykernel import kernelapp as app\n"
     ]
    },
    {
     "name": "stdout",
     "output_type": "stream",
     "text": [
      "1817\n",
      "Processing Normal_Videos595_x264.mp4\n"
     ]
    },
    {
     "name": "stderr",
     "output_type": "stream",
     "text": [
      "C:\\ProgramData\\Anaconda3\\envs\\py35\\lib\\site-packages\\ipykernel_launcher.py:15: VisibleDeprecationWarning: Creating an ndarray from ragged nested sequences (which is a list-or-tuple of lists-or-tuples-or ndarrays with different lengths or shapes) is deprecated. If you meant to do this, you must specify 'dtype=object' when creating the ndarray\n",
      "  from ipykernel import kernelapp as app\n"
     ]
    },
    {
     "name": "stdout",
     "output_type": "stream",
     "text": [
      "2670\n",
      "Processing Normal_Videos596_x264.mp4\n",
      "2733\n"
     ]
    },
    {
     "name": "stderr",
     "output_type": "stream",
     "text": [
      "C:\\ProgramData\\Anaconda3\\envs\\py35\\lib\\site-packages\\ipykernel_launcher.py:15: VisibleDeprecationWarning: Creating an ndarray from ragged nested sequences (which is a list-or-tuple of lists-or-tuples-or ndarrays with different lengths or shapes) is deprecated. If you meant to do this, you must specify 'dtype=object' when creating the ndarray\n",
      "  from ipykernel import kernelapp as app\n"
     ]
    },
    {
     "name": "stdout",
     "output_type": "stream",
     "text": [
      "Processing Normal_Videos598_x264.mp4\n"
     ]
    },
    {
     "name": "stderr",
     "output_type": "stream",
     "text": [
      "C:\\ProgramData\\Anaconda3\\envs\\py35\\lib\\site-packages\\ipykernel_launcher.py:15: VisibleDeprecationWarning: Creating an ndarray from ragged nested sequences (which is a list-or-tuple of lists-or-tuples-or ndarrays with different lengths or shapes) is deprecated. If you meant to do this, you must specify 'dtype=object' when creating the ndarray\n",
      "  from ipykernel import kernelapp as app\n"
     ]
    },
    {
     "name": "stdout",
     "output_type": "stream",
     "text": [
      "7315\n",
      "Processing Normal_Videos599_x264.mp4\n"
     ]
    },
    {
     "name": "stderr",
     "output_type": "stream",
     "text": [
      "C:\\ProgramData\\Anaconda3\\envs\\py35\\lib\\site-packages\\ipykernel_launcher.py:15: VisibleDeprecationWarning: Creating an ndarray from ragged nested sequences (which is a list-or-tuple of lists-or-tuples-or ndarrays with different lengths or shapes) is deprecated. If you meant to do this, you must specify 'dtype=object' when creating the ndarray\n",
      "  from ipykernel import kernelapp as app\n"
     ]
    },
    {
     "name": "stdout",
     "output_type": "stream",
     "text": [
      "2377\n",
      "Processing Normal_Videos600_x264.mp4\n"
     ]
    },
    {
     "name": "stderr",
     "output_type": "stream",
     "text": [
      "C:\\ProgramData\\Anaconda3\\envs\\py35\\lib\\site-packages\\ipykernel_launcher.py:15: VisibleDeprecationWarning: Creating an ndarray from ragged nested sequences (which is a list-or-tuple of lists-or-tuples-or ndarrays with different lengths or shapes) is deprecated. If you meant to do this, you must specify 'dtype=object' when creating the ndarray\n",
      "  from ipykernel import kernelapp as app\n"
     ]
    },
    {
     "name": "stdout",
     "output_type": "stream",
     "text": [
      "2105\n",
      "Processing Normal_Videos601_x264.mp4\n"
     ]
    },
    {
     "name": "stderr",
     "output_type": "stream",
     "text": [
      "C:\\ProgramData\\Anaconda3\\envs\\py35\\lib\\site-packages\\ipykernel_launcher.py:15: VisibleDeprecationWarning: Creating an ndarray from ragged nested sequences (which is a list-or-tuple of lists-or-tuples-or ndarrays with different lengths or shapes) is deprecated. If you meant to do this, you must specify 'dtype=object' when creating the ndarray\n",
      "  from ipykernel import kernelapp as app\n"
     ]
    },
    {
     "name": "stdout",
     "output_type": "stream",
     "text": [
      "2473\n",
      "Processing Normal_Videos602_x264.mp4\n"
     ]
    },
    {
     "name": "stderr",
     "output_type": "stream",
     "text": [
      "C:\\ProgramData\\Anaconda3\\envs\\py35\\lib\\site-packages\\ipykernel_launcher.py:15: VisibleDeprecationWarning: Creating an ndarray from ragged nested sequences (which is a list-or-tuple of lists-or-tuples-or ndarrays with different lengths or shapes) is deprecated. If you meant to do this, you must specify 'dtype=object' when creating the ndarray\n",
      "  from ipykernel import kernelapp as app\n"
     ]
    },
    {
     "name": "stdout",
     "output_type": "stream",
     "text": [
      "11505\n",
      "Processing Normal_Videos604_x264.mp4\n",
      "1441\n",
      "Processing Normal_Videos605_x264.mp4\n"
     ]
    },
    {
     "name": "stderr",
     "output_type": "stream",
     "text": [
      "C:\\ProgramData\\Anaconda3\\envs\\py35\\lib\\site-packages\\ipykernel_launcher.py:15: VisibleDeprecationWarning: Creating an ndarray from ragged nested sequences (which is a list-or-tuple of lists-or-tuples-or ndarrays with different lengths or shapes) is deprecated. If you meant to do this, you must specify 'dtype=object' when creating the ndarray\n",
      "  from ipykernel import kernelapp as app\n"
     ]
    },
    {
     "name": "stdout",
     "output_type": "stream",
     "text": [
      "3814\n",
      "Processing Normal_Videos607_x264.mp4\n"
     ]
    },
    {
     "name": "stderr",
     "output_type": "stream",
     "text": [
      "C:\\ProgramData\\Anaconda3\\envs\\py35\\lib\\site-packages\\ipykernel_launcher.py:15: VisibleDeprecationWarning: Creating an ndarray from ragged nested sequences (which is a list-or-tuple of lists-or-tuples-or ndarrays with different lengths or shapes) is deprecated. If you meant to do this, you must specify 'dtype=object' when creating the ndarray\n",
      "  from ipykernel import kernelapp as app\n"
     ]
    },
    {
     "name": "stdout",
     "output_type": "stream",
     "text": [
      "1898\n",
      "Processing Normal_Videos608_x264.mp4\n"
     ]
    },
    {
     "name": "stderr",
     "output_type": "stream",
     "text": [
      "C:\\ProgramData\\Anaconda3\\envs\\py35\\lib\\site-packages\\ipykernel_launcher.py:15: VisibleDeprecationWarning: Creating an ndarray from ragged nested sequences (which is a list-or-tuple of lists-or-tuples-or ndarrays with different lengths or shapes) is deprecated. If you meant to do this, you must specify 'dtype=object' when creating the ndarray\n",
      "  from ipykernel import kernelapp as app\n"
     ]
    },
    {
     "name": "stdout",
     "output_type": "stream",
     "text": [
      "8942\n",
      "Processing Normal_Videos609_x264.mp4\n",
      "602\n",
      "Processing Normal_Videos610_x264.mp4\n"
     ]
    },
    {
     "name": "stderr",
     "output_type": "stream",
     "text": [
      "C:\\ProgramData\\Anaconda3\\envs\\py35\\lib\\site-packages\\ipykernel_launcher.py:15: VisibleDeprecationWarning: Creating an ndarray from ragged nested sequences (which is a list-or-tuple of lists-or-tuples-or ndarrays with different lengths or shapes) is deprecated. If you meant to do this, you must specify 'dtype=object' when creating the ndarray\n",
      "  from ipykernel import kernelapp as app\n"
     ]
    },
    {
     "name": "stdout",
     "output_type": "stream",
     "text": [
      "842\n",
      "Processing Normal_Videos611_x264.mp4\n"
     ]
    },
    {
     "name": "stderr",
     "output_type": "stream",
     "text": [
      "C:\\ProgramData\\Anaconda3\\envs\\py35\\lib\\site-packages\\ipykernel_launcher.py:15: VisibleDeprecationWarning: Creating an ndarray from ragged nested sequences (which is a list-or-tuple of lists-or-tuples-or ndarrays with different lengths or shapes) is deprecated. If you meant to do this, you must specify 'dtype=object' when creating the ndarray\n",
      "  from ipykernel import kernelapp as app\n"
     ]
    },
    {
     "name": "stdout",
     "output_type": "stream",
     "text": [
      "1197\n",
      "Processing Normal_Videos612_x264.mp4\n"
     ]
    },
    {
     "name": "stderr",
     "output_type": "stream",
     "text": [
      "C:\\ProgramData\\Anaconda3\\envs\\py35\\lib\\site-packages\\ipykernel_launcher.py:15: VisibleDeprecationWarning: Creating an ndarray from ragged nested sequences (which is a list-or-tuple of lists-or-tuples-or ndarrays with different lengths or shapes) is deprecated. If you meant to do this, you must specify 'dtype=object' when creating the ndarray\n",
      "  from ipykernel import kernelapp as app\n"
     ]
    },
    {
     "name": "stdout",
     "output_type": "stream",
     "text": [
      "6269\n",
      "Processing Normal_Videos613_x264.mp4\n"
     ]
    },
    {
     "name": "stderr",
     "output_type": "stream",
     "text": [
      "C:\\ProgramData\\Anaconda3\\envs\\py35\\lib\\site-packages\\ipykernel_launcher.py:15: VisibleDeprecationWarning: Creating an ndarray from ragged nested sequences (which is a list-or-tuple of lists-or-tuples-or ndarrays with different lengths or shapes) is deprecated. If you meant to do this, you must specify 'dtype=object' when creating the ndarray\n",
      "  from ipykernel import kernelapp as app\n"
     ]
    },
    {
     "name": "stdout",
     "output_type": "stream",
     "text": [
      "5939\n",
      "Processing Normal_Videos614_x264.mp4\n"
     ]
    },
    {
     "name": "stderr",
     "output_type": "stream",
     "text": [
      "C:\\ProgramData\\Anaconda3\\envs\\py35\\lib\\site-packages\\ipykernel_launcher.py:15: VisibleDeprecationWarning: Creating an ndarray from ragged nested sequences (which is a list-or-tuple of lists-or-tuples-or ndarrays with different lengths or shapes) is deprecated. If you meant to do this, you must specify 'dtype=object' when creating the ndarray\n",
      "  from ipykernel import kernelapp as app\n"
     ]
    },
    {
     "name": "stdout",
     "output_type": "stream",
     "text": [
      "2459\n",
      "Processing Normal_Videos615_x264.mp4\n"
     ]
    },
    {
     "name": "stderr",
     "output_type": "stream",
     "text": [
      "C:\\ProgramData\\Anaconda3\\envs\\py35\\lib\\site-packages\\ipykernel_launcher.py:15: VisibleDeprecationWarning: Creating an ndarray from ragged nested sequences (which is a list-or-tuple of lists-or-tuples-or ndarrays with different lengths or shapes) is deprecated. If you meant to do this, you must specify 'dtype=object' when creating the ndarray\n",
      "  from ipykernel import kernelapp as app\n"
     ]
    },
    {
     "name": "stdout",
     "output_type": "stream",
     "text": [
      "4575\n",
      "Processing Normal_Videos616_x264.mp4\n"
     ]
    },
    {
     "name": "stderr",
     "output_type": "stream",
     "text": [
      "C:\\ProgramData\\Anaconda3\\envs\\py35\\lib\\site-packages\\ipykernel_launcher.py:15: VisibleDeprecationWarning: Creating an ndarray from ragged nested sequences (which is a list-or-tuple of lists-or-tuples-or ndarrays with different lengths or shapes) is deprecated. If you meant to do this, you must specify 'dtype=object' when creating the ndarray\n",
      "  from ipykernel import kernelapp as app\n"
     ]
    },
    {
     "name": "stdout",
     "output_type": "stream",
     "text": [
      "5340\n",
      "Processing Normal_Videos617_x264.mp4\n"
     ]
    },
    {
     "name": "stderr",
     "output_type": "stream",
     "text": [
      "C:\\ProgramData\\Anaconda3\\envs\\py35\\lib\\site-packages\\ipykernel_launcher.py:15: VisibleDeprecationWarning: Creating an ndarray from ragged nested sequences (which is a list-or-tuple of lists-or-tuples-or ndarrays with different lengths or shapes) is deprecated. If you meant to do this, you must specify 'dtype=object' when creating the ndarray\n",
      "  from ipykernel import kernelapp as app\n"
     ]
    },
    {
     "name": "stdout",
     "output_type": "stream",
     "text": [
      "2921\n",
      "Processing Normal_Videos618_x264.mp4\n"
     ]
    },
    {
     "name": "stderr",
     "output_type": "stream",
     "text": [
      "C:\\ProgramData\\Anaconda3\\envs\\py35\\lib\\site-packages\\ipykernel_launcher.py:15: VisibleDeprecationWarning: Creating an ndarray from ragged nested sequences (which is a list-or-tuple of lists-or-tuples-or ndarrays with different lengths or shapes) is deprecated. If you meant to do this, you must specify 'dtype=object' when creating the ndarray\n",
      "  from ipykernel import kernelapp as app\n"
     ]
    },
    {
     "name": "stdout",
     "output_type": "stream",
     "text": [
      "1938\n",
      "Processing Normal_Videos619_x264.mp4\n"
     ]
    },
    {
     "name": "stderr",
     "output_type": "stream",
     "text": [
      "C:\\ProgramData\\Anaconda3\\envs\\py35\\lib\\site-packages\\ipykernel_launcher.py:15: VisibleDeprecationWarning: Creating an ndarray from ragged nested sequences (which is a list-or-tuple of lists-or-tuples-or ndarrays with different lengths or shapes) is deprecated. If you meant to do this, you must specify 'dtype=object' when creating the ndarray\n",
      "  from ipykernel import kernelapp as app\n"
     ]
    },
    {
     "name": "stdout",
     "output_type": "stream",
     "text": [
      "8967\n",
      "Processing Normal_Videos620_x264.mp4\n",
      "8967\n",
      "Processing Normal_Videos622_x264.mp4\n",
      "2559\n",
      "Processing Normal_Videos623_x264.mp4\n"
     ]
    },
    {
     "name": "stderr",
     "output_type": "stream",
     "text": [
      "C:\\ProgramData\\Anaconda3\\envs\\py35\\lib\\site-packages\\ipykernel_launcher.py:15: VisibleDeprecationWarning: Creating an ndarray from ragged nested sequences (which is a list-or-tuple of lists-or-tuples-or ndarrays with different lengths or shapes) is deprecated. If you meant to do this, you must specify 'dtype=object' when creating the ndarray\n",
      "  from ipykernel import kernelapp as app\n"
     ]
    },
    {
     "name": "stdout",
     "output_type": "stream",
     "text": [
      "11227\n",
      "Processing Normal_Videos624_x264.mp4\n",
      "4200\n",
      "Processing Normal_Videos625_x264.mp4\n"
     ]
    },
    {
     "name": "stderr",
     "output_type": "stream",
     "text": [
      "C:\\ProgramData\\Anaconda3\\envs\\py35\\lib\\site-packages\\ipykernel_launcher.py:15: VisibleDeprecationWarning: Creating an ndarray from ragged nested sequences (which is a list-or-tuple of lists-or-tuples-or ndarrays with different lengths or shapes) is deprecated. If you meant to do this, you must specify 'dtype=object' when creating the ndarray\n",
      "  from ipykernel import kernelapp as app\n"
     ]
    },
    {
     "name": "stdout",
     "output_type": "stream",
     "text": [
      "3209\n",
      "Processing Normal_Videos626_x264.mp4\n"
     ]
    },
    {
     "name": "stderr",
     "output_type": "stream",
     "text": [
      "C:\\ProgramData\\Anaconda3\\envs\\py35\\lib\\site-packages\\ipykernel_launcher.py:15: VisibleDeprecationWarning: Creating an ndarray from ragged nested sequences (which is a list-or-tuple of lists-or-tuples-or ndarrays with different lengths or shapes) is deprecated. If you meant to do this, you must specify 'dtype=object' when creating the ndarray\n",
      "  from ipykernel import kernelapp as app\n"
     ]
    },
    {
     "name": "stdout",
     "output_type": "stream",
     "text": [
      "8991\n",
      "Processing Normal_Videos627_x264.mp4\n",
      "2239\n",
      "Processing Normal_Videos628_x264.mp4\n"
     ]
    },
    {
     "name": "stderr",
     "output_type": "stream",
     "text": [
      "C:\\ProgramData\\Anaconda3\\envs\\py35\\lib\\site-packages\\ipykernel_launcher.py:15: VisibleDeprecationWarning: Creating an ndarray from ragged nested sequences (which is a list-or-tuple of lists-or-tuples-or ndarrays with different lengths or shapes) is deprecated. If you meant to do this, you must specify 'dtype=object' when creating the ndarray\n",
      "  from ipykernel import kernelapp as app\n"
     ]
    },
    {
     "name": "stdout",
     "output_type": "stream",
     "text": [
      "897\n",
      "Processing Normal_Videos629_x264.mp4\n"
     ]
    },
    {
     "name": "stderr",
     "output_type": "stream",
     "text": [
      "C:\\ProgramData\\Anaconda3\\envs\\py35\\lib\\site-packages\\ipykernel_launcher.py:15: VisibleDeprecationWarning: Creating an ndarray from ragged nested sequences (which is a list-or-tuple of lists-or-tuples-or ndarrays with different lengths or shapes) is deprecated. If you meant to do this, you must specify 'dtype=object' when creating the ndarray\n",
      "  from ipykernel import kernelapp as app\n"
     ]
    },
    {
     "name": "stdout",
     "output_type": "stream",
     "text": [
      "4486\n",
      "Processing Normal_Videos630_x264.mp4\n"
     ]
    },
    {
     "name": "stderr",
     "output_type": "stream",
     "text": [
      "C:\\ProgramData\\Anaconda3\\envs\\py35\\lib\\site-packages\\ipykernel_launcher.py:15: VisibleDeprecationWarning: Creating an ndarray from ragged nested sequences (which is a list-or-tuple of lists-or-tuples-or ndarrays with different lengths or shapes) is deprecated. If you meant to do this, you must specify 'dtype=object' when creating the ndarray\n",
      "  from ipykernel import kernelapp as app\n"
     ]
    },
    {
     "name": "stdout",
     "output_type": "stream",
     "text": [
      "63384\n",
      "Processing Normal_Videos631_x264.mp4\n",
      "6790\n"
     ]
    }
   ],
   "source": [
    "print(\"Processing normal videos in chunks...\")\n",
    "for vid_name1 in chunk:\n",
    "    for vid_name in vid_name1:\n",
    "        print(\"Processing {}\".format(vid_name))\n",
    "        vid_path = os.path.join(normal_videos_path, vid_name)\n",
    "        feats_path = os.path.join(\n",
    "            raw_normal_train_features_c3d, vid_name[:-9] + \".npy\")\n",
    "\n",
    "        clips, frames = get_video_clips(vid_path, c3d_frame_count)\n",
    "        print(frames)\n",
    "        if frames > 8000:\n",
    "            continue\n",
    "        # Remove last clip if number of frames is not equal to 16\n",
    "        if frames % 16 != 0:\n",
    "            clips = clips[:-1]\n",
    "\n",
    "        prep_clips = [preprocess_input_c3d(np.array(clip)) for clip in clips]\n",
    "        prep_clips = np.vstack(prep_clips)\n",
    "\n",
    "        features = feature_extractor.predict(prep_clips)\n",
    "        del prep_clips\n",
    "        features = sklearn.preprocessing.normalize(features, axis=1)   \n",
    "        with open(feats_path, \"wb\") as f:\n",
    "            np.save(f, features)\n",
    "        del features\n",
    "        gc.collect(generation=2)"
   ]
  },
  {
   "cell_type": "code",
   "execution_count": 29,
   "metadata": {},
   "outputs": [
    {
     "name": "stdout",
     "output_type": "stream",
     "text": [
      "Processing Normal_Videos004.npy\n",
      "Processing Normal_Videos007.npy\n",
      "Processing Normal_Videos009.npy\n",
      "Processing Normal_Videos011.npy\n",
      "Processing Normal_Videos012.npy\n",
      "Processing Normal_Videos013.npy\n",
      "Processing Normal_Videos016.npy\n",
      "Processing Normal_Videos020.npy\n",
      "Video Normal_Videos020.npy too short\n",
      "Processing Normal_Videos029.npy\n",
      "Processing Normal_Videos038.npy\n",
      "Processing Normal_Videos039.npy\n",
      "Processing Normal_Videos040.npy\n",
      "Processing Normal_Videos049.npy\n",
      "Processing Normal_Videos053.npy\n",
      "Video Normal_Videos053.npy too short\n",
      "Processing Normal_Videos054.npy\n",
      "Processing Normal_Videos055.npy\n",
      "Video Normal_Videos055.npy too short\n",
      "Processing Normal_Videos060.npy\n",
      "Processing Normal_Videos062.npy\n",
      "Processing Normal_Videos068.npy\n",
      "Processing Normal_Videos071.npy\n",
      "Processing Normal_Videos072.npy\n",
      "Processing Normal_Videos074.npy\n",
      "Processing Normal_Videos075.npy\n",
      "Processing Normal_Videos078.npy\n",
      "Processing Normal_Videos080.npy\n",
      "Processing Normal_Videos088.npy\n",
      "Processing Normal_Videos093.npy\n",
      "Processing Normal_Videos094.npy\n",
      "Processing Normal_Videos101.npy\n",
      "Processing Normal_Videos104.npy\n",
      "Processing Normal_Videos106.npy\n",
      "Processing Normal_Videos108.npy\n",
      "Processing Normal_Videos109.npy\n",
      "Processing Normal_Videos113.npy\n",
      "Processing Normal_Videos114.npy\n",
      "Processing Normal_Videos115.npy\n",
      "Video Normal_Videos115.npy too short\n",
      "Processing Normal_Videos116.npy\n",
      "Processing Normal_Videos122.npy\n",
      "Processing Normal_Videos124.npy\n",
      "Processing Normal_Videos125.npy\n",
      "Processing Normal_Videos126.npy\n",
      "Processing Normal_Videos127.npy\n",
      "Processing Normal_Videos128.npy\n",
      "Processing Normal_Videos131.npy\n",
      "Processing Normal_Videos133.npy\n",
      "Processing Normal_Videos134.npy\n",
      "Processing Normal_Videos135.npy\n",
      "Processing Normal_Videos140.npy\n",
      "Processing Normal_Videos147.npy\n",
      "Video Normal_Videos147.npy too short\n",
      "Processing Normal_Videos149.npy\n",
      "Processing Normal_Videos155.npy\n",
      "Video Normal_Videos155.npy too short\n",
      "Processing Normal_Videos159.npy\n",
      "Processing Normal_Videos160.npy\n",
      "Processing Normal_Videos161.npy\n",
      "Processing Normal_Videos162.npy\n",
      "Processing Normal_Videos163.npy\n",
      "Processing Normal_Videos167.npy\n",
      "Processing Normal_Videos170.npy\n",
      "Processing Normal_Videos173.npy\n",
      "Processing Normal_Videos178.npy\n",
      "Processing Normal_Videos181.npy\n",
      "Processing Normal_Videos183.npy\n",
      "Processing Normal_Videos194.npy\n",
      "Processing Normal_Videos197.npy\n",
      "Processing Normal_Videos199.npy\n",
      "Processing Normal_Videos201.npy\n",
      "Processing Normal_Videos202.npy\n",
      "Processing Normal_Videos204.npy\n",
      "Processing Normal_Videos208.npy\n",
      "Processing Normal_Videos209.npy\n",
      "Processing Normal_Videos213.npy\n",
      "Processing Normal_Videos216.npy\n",
      "Processing Normal_Videos218.npy\n",
      "Processing Normal_Videos220.npy\n",
      "Processing Normal_Videos223.npy\n",
      "Processing Normal_Videos227.npy\n",
      "Processing Normal_Videos229.npy\n",
      "Processing Normal_Videos230.npy\n",
      "Video Normal_Videos230.npy too short\n",
      "Processing Normal_Videos233.npy\n",
      "Processing Normal_Videos235.npy\n",
      "Processing Normal_Videos237.npy\n",
      "Processing Normal_Videos238.npy\n",
      "Processing Normal_Videos241.npy\n",
      "Processing Normal_Videos250.npy\n",
      "Processing Normal_Videos252.npy\n",
      "Processing Normal_Videos253.npy\n",
      "Processing Normal_Videos258.npy\n",
      "Processing Normal_Videos262.npy\n",
      "Processing Normal_Videos263.npy\n",
      "Processing Normal_Videos265.npy\n",
      "Processing Normal_Videos267.npy\n",
      "Processing Normal_Videos269.npy\n",
      "Video Normal_Videos269.npy too short\n",
      "Processing Normal_Videos281.npy\n",
      "Video Normal_Videos281.npy too short\n",
      "Processing Normal_Videos282.npy\n",
      "Processing Normal_Videos284.npy\n",
      "Processing Normal_Videos285.npy\n",
      "Processing Normal_Videos287.npy\n",
      "Processing Normal_Videos288.npy\n",
      "Processing Normal_Videos291.npy\n",
      "Video Normal_Videos291.npy too short\n",
      "Processing Normal_Videos295.npy\n",
      "Processing Normal_Videos296.npy\n",
      "Processing Normal_Videos298.npy\n",
      "Processing Normal_Videos299.npy\n",
      "Processing Normal_Videos301.npy\n",
      "Processing Normal_Videos302.npy\n",
      "Processing Normal_Videos306.npy\n",
      "Processing Normal_Videos314.npy\n",
      "Processing Normal_Videos315.npy\n",
      "Processing Normal_Videos319.npy\n",
      "Processing Normal_Videos320.npy\n",
      "Processing Normal_Videos322.npy\n",
      "Processing Normal_Videos326.npy\n",
      "Processing Normal_Videos328.npy\n",
      "Processing Normal_Videos335.npy\n",
      "Processing Normal_Videos336.npy\n",
      "Processing Normal_Videos340.npy\n",
      "Processing Normal_Videos342.npy\n",
      "Processing Normal_Videos343.npy\n",
      "Processing Normal_Videos347.npy\n",
      "Processing Normal_Videos348.npy\n",
      "Processing Normal_Videos350.npy\n",
      "Processing Normal_Videos354.npy\n",
      "Processing Normal_Videos355.npy\n",
      "Processing Normal_Videos356.npy\n",
      "Processing Normal_Videos358.npy\n",
      "Processing Normal_Videos359.npy\n",
      "Processing Normal_Videos362.npy\n",
      "Processing Normal_Videos370.npy\n",
      "Processing Normal_Videos373.npy\n",
      "Video Normal_Videos373.npy too short\n",
      "Processing Normal_Videos380.npy\n",
      "Processing Normal_Videos382.npy\n",
      "Processing Normal_Videos383.npy\n",
      "Processing Normal_Videos388.npy\n",
      "Processing Normal_Videos394.npy\n",
      "Processing Normal_Videos395.npy\n",
      "Video Normal_Videos395.npy too short\n",
      "Processing Normal_Videos398.npy\n",
      "Processing Normal_Videos399.npy\n",
      "Processing Normal_Videos402.npy\n",
      "Processing Normal_Videos404.npy\n",
      "Processing Normal_Videos405.npy\n",
      "Processing Normal_Videos407.npy\n",
      "Video Normal_Videos407.npy too short\n",
      "Processing Normal_Videos411.npy\n",
      "Processing Normal_Videos419.npy\n",
      "Processing Normal_Videos421.npy\n",
      "Processing Normal_Videos422.npy\n",
      "Processing Normal_Videos423.npy\n",
      "Processing Normal_Videos424.npy\n",
      "Processing Normal_Videos426.npy\n",
      "Processing Normal_Videos427.npy\n",
      "Processing Normal_Videos428.npy\n",
      "Processing Normal_Videos429.npy\n",
      "Processing Normal_Videos430.npy\n",
      "Processing Normal_Videos432.npy\n",
      "Processing Normal_Videos433.npy\n",
      "Video Normal_Videos433.npy too short\n",
      "Processing Normal_Videos434.npy\n",
      "Processing Normal_Videos435.npy\n",
      "Processing Normal_Videos440.npy\n",
      "Processing Normal_Videos442.npy\n",
      "Processing Normal_Videos456.npy\n",
      "Processing Normal_Videos457.npy\n",
      "Processing Normal_Videos458.npy\n",
      "Processing Normal_Videos460.npy\n",
      "Processing Normal_Videos462.npy\n",
      "Processing Normal_Videos464.npy\n",
      "Processing Normal_Videos465.npy\n",
      "Processing Normal_Videos468.npy\n",
      "Processing Normal_Videos469.npy\n",
      "Processing Normal_Videos470.npy\n",
      "Processing Normal_Videos476.npy\n",
      "Processing Normal_Videos480.npy\n"
     ]
    }
   ],
   "source": [
    "raw_normal_train_features_c3d_list=os.listdir(raw_normal_train_features_c3d)\n",
    "for filename in os.listdir(raw_normal_train_features_c3d):\n",
    "    print(\"Processing {}\".format(filename))\n",
    "    raw_file_path = os.path.join(\n",
    "        raw_normal_train_features_c3d, filename\n",
    "    )\n",
    "    processed_file_path = os.path.join(\n",
    "        processed_normal_train_features_c3d, filename\n",
    "    )\n",
    "    with open(raw_file_path, \"rb\") as f:\n",
    "        feats = np.load(f, allow_pickle=True)\n",
    "\n",
    "    try:\n",
    "        new_feats = transform_into_segments(feats)\n",
    "        with open(processed_file_path, \"wb\") as f:\n",
    "            np.save(f, new_feats, allow_pickle=True)\n",
    "    except RuntimeError:\n",
    "        print(\"Video {} too short\".format(filename))"
   ]
  },
  {
   "cell_type": "markdown",
   "metadata": {
    "id": "S3jDISdJg5Ln"
   },
   "source": [
    "## Anomaly Videos"
   ]
  },
  {
   "cell_type": "code",
   "execution_count": 43,
   "metadata": {
    "id": "-4sXcsScwyL0"
   },
   "outputs": [],
   "source": [
    "abnormal_videos = os.listdir(abnormal_videos_path)\n",
    "abnormal_videos.sort()\n",
    "chunk = list(divide_chunks(abnormal_videos, 5))"
   ]
  },
  {
   "cell_type": "markdown",
   "metadata": {
    "id": "lKzL2lYHioRU"
   },
   "source": [
    "### C3d"
   ]
  },
  {
   "cell_type": "code",
   "execution_count": 44,
   "metadata": {
    "id": "C7Y5IN98cjqd",
    "scrolled": false
   },
   "outputs": [
    {
     "name": "stdout",
     "output_type": "stream",
     "text": [
      "Processing abnormal videos in chunks...\n",
      "Processing Vandalism001_x264.mp4\n"
     ]
    },
    {
     "name": "stderr",
     "output_type": "stream",
     "text": [
      "C:\\ProgramData\\Anaconda3\\envs\\py35\\lib\\site-packages\\ipykernel_launcher.py:15: VisibleDeprecationWarning: Creating an ndarray from ragged nested sequences (which is a list-or-tuple of lists-or-tuples-or ndarrays with different lengths or shapes) is deprecated. If you meant to do this, you must specify 'dtype=object' when creating the ndarray\n",
      "  from ipykernel import kernelapp as app\n"
     ]
    },
    {
     "name": "stdout",
     "output_type": "stream",
     "text": [
      "1434\n",
      "Processing Vandalism002_x264.mp4\n"
     ]
    },
    {
     "name": "stderr",
     "output_type": "stream",
     "text": [
      "C:\\ProgramData\\Anaconda3\\envs\\py35\\lib\\site-packages\\ipykernel_launcher.py:15: VisibleDeprecationWarning: Creating an ndarray from ragged nested sequences (which is a list-or-tuple of lists-or-tuples-or ndarrays with different lengths or shapes) is deprecated. If you meant to do this, you must specify 'dtype=object' when creating the ndarray\n",
      "  from ipykernel import kernelapp as app\n"
     ]
    },
    {
     "name": "stdout",
     "output_type": "stream",
     "text": [
      "1841\n",
      "Processing Vandalism003_x264.mp4\n"
     ]
    },
    {
     "name": "stderr",
     "output_type": "stream",
     "text": [
      "C:\\ProgramData\\Anaconda3\\envs\\py35\\lib\\site-packages\\ipykernel_launcher.py:15: VisibleDeprecationWarning: Creating an ndarray from ragged nested sequences (which is a list-or-tuple of lists-or-tuples-or ndarrays with different lengths or shapes) is deprecated. If you meant to do this, you must specify 'dtype=object' when creating the ndarray\n",
      "  from ipykernel import kernelapp as app\n"
     ]
    },
    {
     "name": "stdout",
     "output_type": "stream",
     "text": [
      "1469\n",
      "Processing Vandalism004_x264.mp4\n"
     ]
    },
    {
     "name": "stderr",
     "output_type": "stream",
     "text": [
      "C:\\ProgramData\\Anaconda3\\envs\\py35\\lib\\site-packages\\ipykernel_launcher.py:15: VisibleDeprecationWarning: Creating an ndarray from ragged nested sequences (which is a list-or-tuple of lists-or-tuples-or ndarrays with different lengths or shapes) is deprecated. If you meant to do this, you must specify 'dtype=object' when creating the ndarray\n",
      "  from ipykernel import kernelapp as app\n"
     ]
    },
    {
     "name": "stdout",
     "output_type": "stream",
     "text": [
      "2820\n",
      "Processing Vandalism005_x264.mp4\n"
     ]
    },
    {
     "name": "stderr",
     "output_type": "stream",
     "text": [
      "C:\\ProgramData\\Anaconda3\\envs\\py35\\lib\\site-packages\\ipykernel_launcher.py:15: VisibleDeprecationWarning: Creating an ndarray from ragged nested sequences (which is a list-or-tuple of lists-or-tuples-or ndarrays with different lengths or shapes) is deprecated. If you meant to do this, you must specify 'dtype=object' when creating the ndarray\n",
      "  from ipykernel import kernelapp as app\n"
     ]
    },
    {
     "name": "stdout",
     "output_type": "stream",
     "text": [
      "1624\n",
      "Processing Vandalism006_x264.mp4\n"
     ]
    },
    {
     "name": "stderr",
     "output_type": "stream",
     "text": [
      "C:\\ProgramData\\Anaconda3\\envs\\py35\\lib\\site-packages\\ipykernel_launcher.py:15: VisibleDeprecationWarning: Creating an ndarray from ragged nested sequences (which is a list-or-tuple of lists-or-tuples-or ndarrays with different lengths or shapes) is deprecated. If you meant to do this, you must specify 'dtype=object' when creating the ndarray\n",
      "  from ipykernel import kernelapp as app\n"
     ]
    },
    {
     "name": "stdout",
     "output_type": "stream",
     "text": [
      "811\n",
      "Processing Vandalism007_x264.mp4\n"
     ]
    },
    {
     "name": "stderr",
     "output_type": "stream",
     "text": [
      "C:\\ProgramData\\Anaconda3\\envs\\py35\\lib\\site-packages\\ipykernel_launcher.py:15: VisibleDeprecationWarning: Creating an ndarray from ragged nested sequences (which is a list-or-tuple of lists-or-tuples-or ndarrays with different lengths or shapes) is deprecated. If you meant to do this, you must specify 'dtype=object' when creating the ndarray\n",
      "  from ipykernel import kernelapp as app\n"
     ]
    },
    {
     "name": "stdout",
     "output_type": "stream",
     "text": [
      "1146\n",
      "Processing Vandalism008_x264.mp4\n"
     ]
    },
    {
     "name": "stderr",
     "output_type": "stream",
     "text": [
      "C:\\ProgramData\\Anaconda3\\envs\\py35\\lib\\site-packages\\ipykernel_launcher.py:15: VisibleDeprecationWarning: Creating an ndarray from ragged nested sequences (which is a list-or-tuple of lists-or-tuples-or ndarrays with different lengths or shapes) is deprecated. If you meant to do this, you must specify 'dtype=object' when creating the ndarray\n",
      "  from ipykernel import kernelapp as app\n"
     ]
    },
    {
     "name": "stdout",
     "output_type": "stream",
     "text": [
      "12589\n",
      "Processing Vandalism009_x264.mp4\n",
      "1328\n",
      "Processing Vandalism010_x264.mp4\n"
     ]
    },
    {
     "name": "stderr",
     "output_type": "stream",
     "text": [
      "C:\\ProgramData\\Anaconda3\\envs\\py35\\lib\\site-packages\\ipykernel_launcher.py:15: VisibleDeprecationWarning: Creating an ndarray from ragged nested sequences (which is a list-or-tuple of lists-or-tuples-or ndarrays with different lengths or shapes) is deprecated. If you meant to do this, you must specify 'dtype=object' when creating the ndarray\n",
      "  from ipykernel import kernelapp as app\n"
     ]
    },
    {
     "name": "stdout",
     "output_type": "stream",
     "text": [
      "3945\n",
      "Processing Vandalism011_x264.mp4\n"
     ]
    },
    {
     "name": "stderr",
     "output_type": "stream",
     "text": [
      "C:\\ProgramData\\Anaconda3\\envs\\py35\\lib\\site-packages\\ipykernel_launcher.py:15: VisibleDeprecationWarning: Creating an ndarray from ragged nested sequences (which is a list-or-tuple of lists-or-tuples-or ndarrays with different lengths or shapes) is deprecated. If you meant to do this, you must specify 'dtype=object' when creating the ndarray\n",
      "  from ipykernel import kernelapp as app\n"
     ]
    },
    {
     "name": "stdout",
     "output_type": "stream",
     "text": [
      "12449\n",
      "Processing Vandalism012_x264.mp4\n",
      "845\n",
      "Processing Vandalism013_x264.mp4\n"
     ]
    },
    {
     "name": "stderr",
     "output_type": "stream",
     "text": [
      "C:\\ProgramData\\Anaconda3\\envs\\py35\\lib\\site-packages\\ipykernel_launcher.py:15: VisibleDeprecationWarning: Creating an ndarray from ragged nested sequences (which is a list-or-tuple of lists-or-tuples-or ndarrays with different lengths or shapes) is deprecated. If you meant to do this, you must specify 'dtype=object' when creating the ndarray\n",
      "  from ipykernel import kernelapp as app\n"
     ]
    },
    {
     "name": "stdout",
     "output_type": "stream",
     "text": [
      "2379\n",
      "Processing Vandalism014_x264.mp4\n"
     ]
    },
    {
     "name": "stderr",
     "output_type": "stream",
     "text": [
      "C:\\ProgramData\\Anaconda3\\envs\\py35\\lib\\site-packages\\ipykernel_launcher.py:15: VisibleDeprecationWarning: Creating an ndarray from ragged nested sequences (which is a list-or-tuple of lists-or-tuples-or ndarrays with different lengths or shapes) is deprecated. If you meant to do this, you must specify 'dtype=object' when creating the ndarray\n",
      "  from ipykernel import kernelapp as app\n"
     ]
    },
    {
     "name": "stdout",
     "output_type": "stream",
     "text": [
      "429\n",
      "Processing Vandalism015_x264.mp4\n"
     ]
    },
    {
     "name": "stderr",
     "output_type": "stream",
     "text": [
      "C:\\ProgramData\\Anaconda3\\envs\\py35\\lib\\site-packages\\ipykernel_launcher.py:15: VisibleDeprecationWarning: Creating an ndarray from ragged nested sequences (which is a list-or-tuple of lists-or-tuples-or ndarrays with different lengths or shapes) is deprecated. If you meant to do this, you must specify 'dtype=object' when creating the ndarray\n",
      "  from ipykernel import kernelapp as app\n"
     ]
    },
    {
     "name": "stdout",
     "output_type": "stream",
     "text": [
      "2982\n",
      "Processing Vandalism016_x264.mp4\n"
     ]
    },
    {
     "name": "stderr",
     "output_type": "stream",
     "text": [
      "C:\\ProgramData\\Anaconda3\\envs\\py35\\lib\\site-packages\\ipykernel_launcher.py:15: VisibleDeprecationWarning: Creating an ndarray from ragged nested sequences (which is a list-or-tuple of lists-or-tuples-or ndarrays with different lengths or shapes) is deprecated. If you meant to do this, you must specify 'dtype=object' when creating the ndarray\n",
      "  from ipykernel import kernelapp as app\n"
     ]
    },
    {
     "name": "stdout",
     "output_type": "stream",
     "text": [
      "5810\n",
      "Processing Vandalism017_x264.mp4\n"
     ]
    },
    {
     "name": "stderr",
     "output_type": "stream",
     "text": [
      "C:\\ProgramData\\Anaconda3\\envs\\py35\\lib\\site-packages\\ipykernel_launcher.py:15: VisibleDeprecationWarning: Creating an ndarray from ragged nested sequences (which is a list-or-tuple of lists-or-tuples-or ndarrays with different lengths or shapes) is deprecated. If you meant to do this, you must specify 'dtype=object' when creating the ndarray\n",
      "  from ipykernel import kernelapp as app\n"
     ]
    },
    {
     "name": "stdout",
     "output_type": "stream",
     "text": [
      "1011\n",
      "Processing Vandalism018_x264.mp4\n"
     ]
    },
    {
     "name": "stderr",
     "output_type": "stream",
     "text": [
      "C:\\ProgramData\\Anaconda3\\envs\\py35\\lib\\site-packages\\ipykernel_launcher.py:15: VisibleDeprecationWarning: Creating an ndarray from ragged nested sequences (which is a list-or-tuple of lists-or-tuples-or ndarrays with different lengths or shapes) is deprecated. If you meant to do this, you must specify 'dtype=object' when creating the ndarray\n",
      "  from ipykernel import kernelapp as app\n"
     ]
    },
    {
     "name": "stdout",
     "output_type": "stream",
     "text": [
      "5557\n",
      "Processing Vandalism019_x264.mp4\n"
     ]
    },
    {
     "name": "stderr",
     "output_type": "stream",
     "text": [
      "C:\\ProgramData\\Anaconda3\\envs\\py35\\lib\\site-packages\\ipykernel_launcher.py:15: VisibleDeprecationWarning: Creating an ndarray from ragged nested sequences (which is a list-or-tuple of lists-or-tuples-or ndarrays with different lengths or shapes) is deprecated. If you meant to do this, you must specify 'dtype=object' when creating the ndarray\n",
      "  from ipykernel import kernelapp as app\n"
     ]
    },
    {
     "name": "stdout",
     "output_type": "stream",
     "text": [
      "2047\n",
      "Processing Vandalism020_x264.mp4\n"
     ]
    },
    {
     "name": "stderr",
     "output_type": "stream",
     "text": [
      "C:\\ProgramData\\Anaconda3\\envs\\py35\\lib\\site-packages\\ipykernel_launcher.py:15: VisibleDeprecationWarning: Creating an ndarray from ragged nested sequences (which is a list-or-tuple of lists-or-tuples-or ndarrays with different lengths or shapes) is deprecated. If you meant to do this, you must specify 'dtype=object' when creating the ndarray\n",
      "  from ipykernel import kernelapp as app\n"
     ]
    },
    {
     "name": "stdout",
     "output_type": "stream",
     "text": [
      "1447\n",
      "Processing Vandalism021_x264.mp4\n"
     ]
    },
    {
     "name": "stderr",
     "output_type": "stream",
     "text": [
      "C:\\ProgramData\\Anaconda3\\envs\\py35\\lib\\site-packages\\ipykernel_launcher.py:15: VisibleDeprecationWarning: Creating an ndarray from ragged nested sequences (which is a list-or-tuple of lists-or-tuples-or ndarrays with different lengths or shapes) is deprecated. If you meant to do this, you must specify 'dtype=object' when creating the ndarray\n",
      "  from ipykernel import kernelapp as app\n"
     ]
    },
    {
     "name": "stdout",
     "output_type": "stream",
     "text": [
      "1362\n",
      "Processing Vandalism022_x264.mp4\n"
     ]
    },
    {
     "name": "stderr",
     "output_type": "stream",
     "text": [
      "C:\\ProgramData\\Anaconda3\\envs\\py35\\lib\\site-packages\\ipykernel_launcher.py:15: VisibleDeprecationWarning: Creating an ndarray from ragged nested sequences (which is a list-or-tuple of lists-or-tuples-or ndarrays with different lengths or shapes) is deprecated. If you meant to do this, you must specify 'dtype=object' when creating the ndarray\n",
      "  from ipykernel import kernelapp as app\n"
     ]
    },
    {
     "name": "stdout",
     "output_type": "stream",
     "text": [
      "3932\n",
      "Processing Vandalism023_x264.mp4\n"
     ]
    },
    {
     "name": "stderr",
     "output_type": "stream",
     "text": [
      "C:\\ProgramData\\Anaconda3\\envs\\py35\\lib\\site-packages\\ipykernel_launcher.py:15: VisibleDeprecationWarning: Creating an ndarray from ragged nested sequences (which is a list-or-tuple of lists-or-tuples-or ndarrays with different lengths or shapes) is deprecated. If you meant to do this, you must specify 'dtype=object' when creating the ndarray\n",
      "  from ipykernel import kernelapp as app\n"
     ]
    },
    {
     "name": "stdout",
     "output_type": "stream",
     "text": [
      "6301\n",
      "Processing Vandalism024_x264.mp4\n"
     ]
    },
    {
     "name": "stderr",
     "output_type": "stream",
     "text": [
      "C:\\ProgramData\\Anaconda3\\envs\\py35\\lib\\site-packages\\ipykernel_launcher.py:15: VisibleDeprecationWarning: Creating an ndarray from ragged nested sequences (which is a list-or-tuple of lists-or-tuples-or ndarrays with different lengths or shapes) is deprecated. If you meant to do this, you must specify 'dtype=object' when creating the ndarray\n",
      "  from ipykernel import kernelapp as app\n"
     ]
    },
    {
     "name": "stdout",
     "output_type": "stream",
     "text": [
      "1004\n",
      "Processing Vandalism025_x264.mp4\n",
      "4304\n",
      "Processing Vandalism026_x264.mp4\n"
     ]
    },
    {
     "name": "stderr",
     "output_type": "stream",
     "text": [
      "C:\\ProgramData\\Anaconda3\\envs\\py35\\lib\\site-packages\\ipykernel_launcher.py:15: VisibleDeprecationWarning: Creating an ndarray from ragged nested sequences (which is a list-or-tuple of lists-or-tuples-or ndarrays with different lengths or shapes) is deprecated. If you meant to do this, you must specify 'dtype=object' when creating the ndarray\n",
      "  from ipykernel import kernelapp as app\n"
     ]
    },
    {
     "name": "stdout",
     "output_type": "stream",
     "text": [
      "969\n",
      "Processing Vandalism027_x264.mp4\n"
     ]
    },
    {
     "name": "stderr",
     "output_type": "stream",
     "text": [
      "C:\\ProgramData\\Anaconda3\\envs\\py35\\lib\\site-packages\\ipykernel_launcher.py:15: VisibleDeprecationWarning: Creating an ndarray from ragged nested sequences (which is a list-or-tuple of lists-or-tuples-or ndarrays with different lengths or shapes) is deprecated. If you meant to do this, you must specify 'dtype=object' when creating the ndarray\n",
      "  from ipykernel import kernelapp as app\n"
     ]
    },
    {
     "name": "stdout",
     "output_type": "stream",
     "text": [
      "701\n",
      "Processing Vandalism028_x264.mp4\n"
     ]
    },
    {
     "name": "stderr",
     "output_type": "stream",
     "text": [
      "C:\\ProgramData\\Anaconda3\\envs\\py35\\lib\\site-packages\\ipykernel_launcher.py:15: VisibleDeprecationWarning: Creating an ndarray from ragged nested sequences (which is a list-or-tuple of lists-or-tuples-or ndarrays with different lengths or shapes) is deprecated. If you meant to do this, you must specify 'dtype=object' when creating the ndarray\n",
      "  from ipykernel import kernelapp as app\n"
     ]
    },
    {
     "name": "stdout",
     "output_type": "stream",
     "text": [
      "4495\n",
      "Processing Vandalism029_x264.mp4\n"
     ]
    },
    {
     "name": "stderr",
     "output_type": "stream",
     "text": [
      "C:\\ProgramData\\Anaconda3\\envs\\py35\\lib\\site-packages\\ipykernel_launcher.py:15: VisibleDeprecationWarning: Creating an ndarray from ragged nested sequences (which is a list-or-tuple of lists-or-tuples-or ndarrays with different lengths or shapes) is deprecated. If you meant to do this, you must specify 'dtype=object' when creating the ndarray\n",
      "  from ipykernel import kernelapp as app\n"
     ]
    },
    {
     "name": "stdout",
     "output_type": "stream",
     "text": [
      "456\n",
      "Processing Vandalism030_x264.mp4\n"
     ]
    },
    {
     "name": "stderr",
     "output_type": "stream",
     "text": [
      "C:\\ProgramData\\Anaconda3\\envs\\py35\\lib\\site-packages\\ipykernel_launcher.py:15: VisibleDeprecationWarning: Creating an ndarray from ragged nested sequences (which is a list-or-tuple of lists-or-tuples-or ndarrays with different lengths or shapes) is deprecated. If you meant to do this, you must specify 'dtype=object' when creating the ndarray\n",
      "  from ipykernel import kernelapp as app\n"
     ]
    },
    {
     "name": "stdout",
     "output_type": "stream",
     "text": [
      "1437\n",
      "Processing Vandalism031_x264.mp4\n"
     ]
    },
    {
     "name": "stderr",
     "output_type": "stream",
     "text": [
      "C:\\ProgramData\\Anaconda3\\envs\\py35\\lib\\site-packages\\ipykernel_launcher.py:15: VisibleDeprecationWarning: Creating an ndarray from ragged nested sequences (which is a list-or-tuple of lists-or-tuples-or ndarrays with different lengths or shapes) is deprecated. If you meant to do this, you must specify 'dtype=object' when creating the ndarray\n",
      "  from ipykernel import kernelapp as app\n"
     ]
    },
    {
     "name": "stdout",
     "output_type": "stream",
     "text": [
      "1799\n",
      "Processing Vandalism032_x264.mp4\n"
     ]
    },
    {
     "name": "stderr",
     "output_type": "stream",
     "text": [
      "C:\\ProgramData\\Anaconda3\\envs\\py35\\lib\\site-packages\\ipykernel_launcher.py:15: VisibleDeprecationWarning: Creating an ndarray from ragged nested sequences (which is a list-or-tuple of lists-or-tuples-or ndarrays with different lengths or shapes) is deprecated. If you meant to do this, you must specify 'dtype=object' when creating the ndarray\n",
      "  from ipykernel import kernelapp as app\n"
     ]
    },
    {
     "name": "stdout",
     "output_type": "stream",
     "text": [
      "674\n",
      "Processing Vandalism033_x264.mp4\n"
     ]
    },
    {
     "name": "stderr",
     "output_type": "stream",
     "text": [
      "C:\\ProgramData\\Anaconda3\\envs\\py35\\lib\\site-packages\\ipykernel_launcher.py:15: VisibleDeprecationWarning: Creating an ndarray from ragged nested sequences (which is a list-or-tuple of lists-or-tuples-or ndarrays with different lengths or shapes) is deprecated. If you meant to do this, you must specify 'dtype=object' when creating the ndarray\n",
      "  from ipykernel import kernelapp as app\n"
     ]
    },
    {
     "name": "stdout",
     "output_type": "stream",
     "text": [
      "2265\n",
      "Processing Vandalism034_x264.mp4\n"
     ]
    },
    {
     "name": "stderr",
     "output_type": "stream",
     "text": [
      "C:\\ProgramData\\Anaconda3\\envs\\py35\\lib\\site-packages\\ipykernel_launcher.py:15: VisibleDeprecationWarning: Creating an ndarray from ragged nested sequences (which is a list-or-tuple of lists-or-tuples-or ndarrays with different lengths or shapes) is deprecated. If you meant to do this, you must specify 'dtype=object' when creating the ndarray\n",
      "  from ipykernel import kernelapp as app\n"
     ]
    },
    {
     "name": "stdout",
     "output_type": "stream",
     "text": [
      "1756\n",
      "Processing Vandalism035_x264.mp4\n"
     ]
    },
    {
     "name": "stderr",
     "output_type": "stream",
     "text": [
      "C:\\ProgramData\\Anaconda3\\envs\\py35\\lib\\site-packages\\ipykernel_launcher.py:15: VisibleDeprecationWarning: Creating an ndarray from ragged nested sequences (which is a list-or-tuple of lists-or-tuples-or ndarrays with different lengths or shapes) is deprecated. If you meant to do this, you must specify 'dtype=object' when creating the ndarray\n",
      "  from ipykernel import kernelapp as app\n"
     ]
    },
    {
     "name": "stdout",
     "output_type": "stream",
     "text": [
      "1188\n",
      "Processing Vandalism036_x264.mp4\n"
     ]
    },
    {
     "name": "stderr",
     "output_type": "stream",
     "text": [
      "C:\\ProgramData\\Anaconda3\\envs\\py35\\lib\\site-packages\\ipykernel_launcher.py:15: VisibleDeprecationWarning: Creating an ndarray from ragged nested sequences (which is a list-or-tuple of lists-or-tuples-or ndarrays with different lengths or shapes) is deprecated. If you meant to do this, you must specify 'dtype=object' when creating the ndarray\n",
      "  from ipykernel import kernelapp as app\n"
     ]
    },
    {
     "name": "stdout",
     "output_type": "stream",
     "text": [
      "1443\n",
      "Processing Vandalism037_x264.mp4\n"
     ]
    },
    {
     "name": "stderr",
     "output_type": "stream",
     "text": [
      "C:\\ProgramData\\Anaconda3\\envs\\py35\\lib\\site-packages\\ipykernel_launcher.py:15: VisibleDeprecationWarning: Creating an ndarray from ragged nested sequences (which is a list-or-tuple of lists-or-tuples-or ndarrays with different lengths or shapes) is deprecated. If you meant to do this, you must specify 'dtype=object' when creating the ndarray\n",
      "  from ipykernel import kernelapp as app\n"
     ]
    },
    {
     "name": "stdout",
     "output_type": "stream",
     "text": [
      "3019\n",
      "Processing Vandalism038_x264.mp4\n"
     ]
    },
    {
     "name": "stderr",
     "output_type": "stream",
     "text": [
      "C:\\ProgramData\\Anaconda3\\envs\\py35\\lib\\site-packages\\ipykernel_launcher.py:15: VisibleDeprecationWarning: Creating an ndarray from ragged nested sequences (which is a list-or-tuple of lists-or-tuples-or ndarrays with different lengths or shapes) is deprecated. If you meant to do this, you must specify 'dtype=object' when creating the ndarray\n",
      "  from ipykernel import kernelapp as app\n"
     ]
    },
    {
     "name": "stdout",
     "output_type": "stream",
     "text": [
      "2825\n",
      "Processing Vandalism039_x264.mp4\n"
     ]
    },
    {
     "name": "stderr",
     "output_type": "stream",
     "text": [
      "C:\\ProgramData\\Anaconda3\\envs\\py35\\lib\\site-packages\\ipykernel_launcher.py:15: VisibleDeprecationWarning: Creating an ndarray from ragged nested sequences (which is a list-or-tuple of lists-or-tuples-or ndarrays with different lengths or shapes) is deprecated. If you meant to do this, you must specify 'dtype=object' when creating the ndarray\n",
      "  from ipykernel import kernelapp as app\n"
     ]
    },
    {
     "name": "stdout",
     "output_type": "stream",
     "text": [
      "899\n",
      "Processing Vandalism040_x264.mp4\n"
     ]
    },
    {
     "name": "stderr",
     "output_type": "stream",
     "text": [
      "C:\\ProgramData\\Anaconda3\\envs\\py35\\lib\\site-packages\\ipykernel_launcher.py:15: VisibleDeprecationWarning: Creating an ndarray from ragged nested sequences (which is a list-or-tuple of lists-or-tuples-or ndarrays with different lengths or shapes) is deprecated. If you meant to do this, you must specify 'dtype=object' when creating the ndarray\n",
      "  from ipykernel import kernelapp as app\n"
     ]
    },
    {
     "name": "stdout",
     "output_type": "stream",
     "text": [
      "1037\n",
      "Processing Vandalism041_x264.mp4\n"
     ]
    },
    {
     "name": "stderr",
     "output_type": "stream",
     "text": [
      "C:\\ProgramData\\Anaconda3\\envs\\py35\\lib\\site-packages\\ipykernel_launcher.py:15: VisibleDeprecationWarning: Creating an ndarray from ragged nested sequences (which is a list-or-tuple of lists-or-tuples-or ndarrays with different lengths or shapes) is deprecated. If you meant to do this, you must specify 'dtype=object' when creating the ndarray\n",
      "  from ipykernel import kernelapp as app\n"
     ]
    },
    {
     "name": "stdout",
     "output_type": "stream",
     "text": [
      "4868\n",
      "Processing Vandalism042_x264.mp4\n"
     ]
    },
    {
     "name": "stderr",
     "output_type": "stream",
     "text": [
      "C:\\ProgramData\\Anaconda3\\envs\\py35\\lib\\site-packages\\ipykernel_launcher.py:15: VisibleDeprecationWarning: Creating an ndarray from ragged nested sequences (which is a list-or-tuple of lists-or-tuples-or ndarrays with different lengths or shapes) is deprecated. If you meant to do this, you must specify 'dtype=object' when creating the ndarray\n",
      "  from ipykernel import kernelapp as app\n"
     ]
    },
    {
     "name": "stdout",
     "output_type": "stream",
     "text": [
      "3596\n",
      "Processing Vandalism043_x264.mp4\n"
     ]
    },
    {
     "name": "stderr",
     "output_type": "stream",
     "text": [
      "C:\\ProgramData\\Anaconda3\\envs\\py35\\lib\\site-packages\\ipykernel_launcher.py:15: VisibleDeprecationWarning: Creating an ndarray from ragged nested sequences (which is a list-or-tuple of lists-or-tuples-or ndarrays with different lengths or shapes) is deprecated. If you meant to do this, you must specify 'dtype=object' when creating the ndarray\n",
      "  from ipykernel import kernelapp as app\n"
     ]
    },
    {
     "name": "stdout",
     "output_type": "stream",
     "text": [
      "3243\n",
      "Processing Vandalism044_x264.mp4\n"
     ]
    },
    {
     "name": "stderr",
     "output_type": "stream",
     "text": [
      "C:\\ProgramData\\Anaconda3\\envs\\py35\\lib\\site-packages\\ipykernel_launcher.py:15: VisibleDeprecationWarning: Creating an ndarray from ragged nested sequences (which is a list-or-tuple of lists-or-tuples-or ndarrays with different lengths or shapes) is deprecated. If you meant to do this, you must specify 'dtype=object' when creating the ndarray\n",
      "  from ipykernel import kernelapp as app\n"
     ]
    },
    {
     "name": "stdout",
     "output_type": "stream",
     "text": [
      "4605\n",
      "Processing Vandalism045_x264.mp4\n"
     ]
    },
    {
     "name": "stderr",
     "output_type": "stream",
     "text": [
      "C:\\ProgramData\\Anaconda3\\envs\\py35\\lib\\site-packages\\ipykernel_launcher.py:15: VisibleDeprecationWarning: Creating an ndarray from ragged nested sequences (which is a list-or-tuple of lists-or-tuples-or ndarrays with different lengths or shapes) is deprecated. If you meant to do this, you must specify 'dtype=object' when creating the ndarray\n",
      "  from ipykernel import kernelapp as app\n"
     ]
    },
    {
     "name": "stdout",
     "output_type": "stream",
     "text": [
      "4358\n",
      "Processing Vandalism046_x264.mp4\n"
     ]
    },
    {
     "name": "stderr",
     "output_type": "stream",
     "text": [
      "C:\\ProgramData\\Anaconda3\\envs\\py35\\lib\\site-packages\\ipykernel_launcher.py:15: VisibleDeprecationWarning: Creating an ndarray from ragged nested sequences (which is a list-or-tuple of lists-or-tuples-or ndarrays with different lengths or shapes) is deprecated. If you meant to do this, you must specify 'dtype=object' when creating the ndarray\n",
      "  from ipykernel import kernelapp as app\n"
     ]
    },
    {
     "name": "stdout",
     "output_type": "stream",
     "text": [
      "2099\n",
      "Processing Vandalism047_x264.mp4\n"
     ]
    },
    {
     "name": "stderr",
     "output_type": "stream",
     "text": [
      "C:\\ProgramData\\Anaconda3\\envs\\py35\\lib\\site-packages\\ipykernel_launcher.py:15: VisibleDeprecationWarning: Creating an ndarray from ragged nested sequences (which is a list-or-tuple of lists-or-tuples-or ndarrays with different lengths or shapes) is deprecated. If you meant to do this, you must specify 'dtype=object' when creating the ndarray\n",
      "  from ipykernel import kernelapp as app\n"
     ]
    },
    {
     "name": "stdout",
     "output_type": "stream",
     "text": [
      "2483\n",
      "Processing Vandalism048_x264.mp4\n"
     ]
    },
    {
     "name": "stderr",
     "output_type": "stream",
     "text": [
      "C:\\ProgramData\\Anaconda3\\envs\\py35\\lib\\site-packages\\ipykernel_launcher.py:15: VisibleDeprecationWarning: Creating an ndarray from ragged nested sequences (which is a list-or-tuple of lists-or-tuples-or ndarrays with different lengths or shapes) is deprecated. If you meant to do this, you must specify 'dtype=object' when creating the ndarray\n",
      "  from ipykernel import kernelapp as app\n"
     ]
    },
    {
     "name": "stdout",
     "output_type": "stream",
     "text": [
      "7183\n",
      "Processing Vandalism049_x264.mp4\n"
     ]
    },
    {
     "name": "stderr",
     "output_type": "stream",
     "text": [
      "C:\\ProgramData\\Anaconda3\\envs\\py35\\lib\\site-packages\\ipykernel_launcher.py:15: VisibleDeprecationWarning: Creating an ndarray from ragged nested sequences (which is a list-or-tuple of lists-or-tuples-or ndarrays with different lengths or shapes) is deprecated. If you meant to do this, you must specify 'dtype=object' when creating the ndarray\n",
      "  from ipykernel import kernelapp as app\n"
     ]
    },
    {
     "name": "stdout",
     "output_type": "stream",
     "text": [
      "7999\n",
      "Processing Vandalism050_x264.mp4\n"
     ]
    },
    {
     "name": "stderr",
     "output_type": "stream",
     "text": [
      "C:\\ProgramData\\Anaconda3\\envs\\py35\\lib\\site-packages\\ipykernel_launcher.py:15: VisibleDeprecationWarning: Creating an ndarray from ragged nested sequences (which is a list-or-tuple of lists-or-tuples-or ndarrays with different lengths or shapes) is deprecated. If you meant to do this, you must specify 'dtype=object' when creating the ndarray\n",
      "  from ipykernel import kernelapp as app\n"
     ]
    },
    {
     "name": "stdout",
     "output_type": "stream",
     "text": [
      "899\n"
     ]
    }
   ],
   "source": [
    "print(\"Processing abnormal videos in chunks...\")\n",
    "for vid_name1 in chunk:\n",
    "    for vid_name in vid_name1:\n",
    "        print(\"Processing {}\".format(vid_name))\n",
    "        vid_path = os.path.join(abnormal_videos_path, vid_name)\n",
    "        feats_path = os.path.join(\n",
    "            raw_abnormal_train_features_c3d, vid_name[:-9] + \".npy\")\n",
    "\n",
    "        clips, frames = get_video_clips(vid_path, c3d_frame_count)\n",
    "        print(frames)\n",
    "        if frames > 8000:\n",
    "            continue\n",
    "        # Remove last clip if number of frames is not equal to 16\n",
    "        if frames % 16 != 0:\n",
    "            clips = clips[:-1]\n",
    "\n",
    "        prep_clips = [preprocess_input_c3d(np.array(clip)) for clip in clips]\n",
    "        prep_clips = np.vstack(prep_clips)\n",
    "\n",
    "        features = feature_extractor.predict(prep_clips)\n",
    "        del prep_clips\n",
    "        features = sklearn.preprocessing.normalize(features, axis=1)   \n",
    "        with open(feats_path, \"wb\") as f:\n",
    "            np.save(f, features)\n",
    "        del features\n",
    "        gc.collect(generation=2)"
   ]
  },
  {
   "cell_type": "code",
   "execution_count": 45,
   "metadata": {
    "id": "ERjzJ91fhwcD"
   },
   "outputs": [
    {
     "name": "stdout",
     "output_type": "stream",
     "text": [
      "Processing Abuse001.npy\n",
      "Processing Abuse002.npy\n",
      "Processing Abuse003.npy\n",
      "Processing Abuse005.npy\n",
      "Processing Abuse006.npy\n",
      "Processing Abuse007.npy\n",
      "Processing Abuse009.npy\n",
      "Processing Abuse010.npy\n",
      "Processing Abuse011.npy\n",
      "Processing Abuse012.npy\n",
      "Processing Abuse013.npy\n",
      "Processing Abuse014.npy\n",
      "Processing Abuse015.npy\n",
      "Processing Abuse016.npy\n",
      "Processing Abuse017.npy\n",
      "Processing Abuse018.npy\n",
      "Processing Abuse019.npy\n",
      "Processing Abuse020.npy\n",
      "Processing Abuse021.npy\n",
      "Processing Abuse022.npy\n",
      "Processing Abuse023.npy\n",
      "Processing Abuse024.npy\n",
      "Processing Abuse025.npy\n",
      "Processing Abuse026.npy\n",
      "Processing Abuse027.npy\n",
      "Processing Abuse028.npy\n",
      "Processing Abuse029.npy\n",
      "Video Abuse029.npy too short\n",
      "Processing Abuse030.npy\n",
      "Processing Abuse031.npy\n",
      "Processing Abuse032.npy\n",
      "Processing Abuse033.npy\n",
      "Processing Abuse034.npy\n",
      "Processing Abuse035.npy\n",
      "Processing Abuse036.npy\n",
      "Processing Abuse037.npy\n",
      "Processing Abuse038.npy\n",
      "Processing Abuse040.npy\n",
      "Processing Abuse041.npy\n",
      "Processing Abuse043.npy\n",
      "Processing Abuse044.npy\n",
      "Processing Abuse045.npy\n",
      "Processing Abuse046.npy\n",
      "Processing Abuse047.npy\n",
      "Processing Abuse048.npy\n",
      "Processing Abuse049.npy\n",
      "Processing Abuse050.npy\n",
      "Processing Arrest001.npy\n",
      "Processing Arrest002.npy\n",
      "Processing Arrest003.npy\n",
      "Processing Arrest004.npy\n",
      "Processing Arrest005.npy\n",
      "Processing Arrest006.npy\n",
      "Processing Arrest007.npy\n",
      "Processing Arrest008.npy\n",
      "Processing Arrest009.npy\n",
      "Processing Arrest010.npy\n",
      "Processing Arrest011.npy\n",
      "Processing Arrest013.npy\n",
      "Processing Arrest014.npy\n",
      "Processing Arrest015.npy\n",
      "Processing Arrest017.npy\n",
      "Processing Arrest018.npy\n",
      "Processing Arrest019.npy\n",
      "Processing Arrest020.npy\n",
      "Processing Arrest022.npy\n",
      "Processing Arrest023.npy\n",
      "Processing Arrest024.npy\n",
      "Processing Arrest025.npy\n",
      "Processing Arrest026.npy\n",
      "Processing Arrest027.npy\n",
      "Processing Arrest028.npy\n",
      "Processing Arrest029.npy\n",
      "Processing Arrest031.npy\n",
      "Processing Arrest032.npy\n",
      "Processing Arrest033.npy\n",
      "Processing Arrest035.npy\n",
      "Processing Arrest036.npy\n",
      "Processing Arrest037.npy\n",
      "Processing Arrest038.npy\n",
      "Processing Arrest040.npy\n",
      "Processing Arrest041.npy\n",
      "Processing Arrest042.npy\n",
      "Processing Arrest044.npy\n",
      "Processing Arrest046.npy\n",
      "Processing Arrest048.npy\n",
      "Processing Arrest050.npy\n",
      "Processing Arson003.npy\n",
      "Processing Arson005.npy\n",
      "Processing Arson009.npy\n",
      "Processing Arson010.npy\n",
      "Processing Arson011.npy\n",
      "Processing Arson013.npy\n",
      "Processing Arson014.npy\n",
      "Processing Arson021.npy\n",
      "Processing Arson024.npy\n",
      "Processing Arson034.npy\n",
      "Processing Arson037.npy\n",
      "Processing Arson041.npy\n",
      "Processing Arson045.npy\n",
      "Processing Arson048.npy\n",
      "Video Arson048.npy too short\n",
      "Processing Assault001.npy\n",
      "Processing Assault002.npy\n",
      "Processing Assault003.npy\n",
      "Processing Assault004.npy\n",
      "Processing Assault005.npy\n",
      "Processing Assault007.npy\n",
      "Processing Assault008.npy\n",
      "Processing Assault009.npy\n",
      "Processing Assault011.npy\n",
      "Processing Assault012.npy\n",
      "Processing Assault013.npy\n",
      "Processing Assault014.npy\n",
      "Processing Assault015.npy\n",
      "Processing Assault016.npy\n",
      "Processing Assault017.npy\n",
      "Processing Assault018.npy\n",
      "Video Assault018.npy too short\n",
      "Processing Assault019.npy\n",
      "Processing Assault020.npy\n",
      "Video Assault020.npy too short\n",
      "Processing Assault022.npy\n",
      "Processing Assault023.npy\n",
      "Processing Assault024.npy\n",
      "Video Assault024.npy too short\n",
      "Processing Assault025.npy\n",
      "Processing Assault026.npy\n",
      "Processing Assault027.npy\n",
      "Processing Assault028.npy\n",
      "Processing Assault029.npy\n",
      "Processing Assault030.npy\n",
      "Processing Assault031.npy\n",
      "Processing Assault032.npy\n",
      "Processing Assault033.npy\n",
      "Processing Assault034.npy\n",
      "Processing Assault035.npy\n",
      "Processing Assault036.npy\n",
      "Processing Assault037.npy\n",
      "Processing Assault038.npy\n",
      "Video Assault038.npy too short\n",
      "Processing Assault039.npy\n",
      "Video Assault039.npy too short\n",
      "Processing Assault040.npy\n",
      "Processing Assault041.npy\n",
      "Processing Assault044.npy\n",
      "Processing Assault045.npy\n",
      "Processing Assault046.npy\n",
      "Processing Assault047.npy\n",
      "Processing Assault048.npy\n",
      "Processing Assault049.npy\n",
      "Processing Assault050.npy\n",
      "Processing Assault051.npy\n",
      "Processing Assault052.npy\n",
      "Processing Burglary001.npy\n",
      "Processing Burglary002.npy\n",
      "Processing Burglary003.npy\n",
      "Processing Burglary004.npy\n",
      "Processing Burglary005.npy\n",
      "Processing Burglary007.npy\n",
      "Processing Burglary008.npy\n",
      "Processing Burglary009.npy\n",
      "Processing Burglary010.npy\n",
      "Processing Burglary011.npy\n",
      "Processing Burglary012.npy\n",
      "Processing Burglary013.npy\n",
      "Processing Burglary014.npy\n",
      "Processing Burglary015.npy\n",
      "Processing Burglary016.npy\n",
      "Processing Burglary017.npy\n",
      "Processing Burglary018.npy\n",
      "Processing Burglary019.npy\n",
      "Processing Burglary020.npy\n",
      "Processing Burglary021.npy\n",
      "Processing Burglary022.npy\n",
      "Processing Burglary024.npy\n",
      "Processing Burglary025.npy\n",
      "Processing Burglary026.npy\n",
      "Processing Burglary027.npy\n",
      "Processing Burglary028.npy\n",
      "Processing Burglary029.npy\n",
      "Processing Burglary030.npy\n",
      "Processing Burglary031.npy\n",
      "Processing Burglary033.npy\n",
      "Processing Burglary034.npy\n",
      "Processing Burglary035.npy\n",
      "Processing Burglary036.npy\n",
      "Processing Burglary037.npy\n",
      "Processing Burglary038.npy\n",
      "Processing Burglary040.npy\n",
      "Processing Burglary041.npy\n",
      "Processing Burglary042.npy\n",
      "Processing Burglary043.npy\n",
      "Processing Burglary044.npy\n",
      "Processing Burglary046.npy\n",
      "Processing Burglary047.npy\n",
      "Processing Burglary048.npy\n",
      "Processing Burglary050.npy\n",
      "Processing Burglary051.npy\n",
      "Processing Burglary053.npy\n",
      "Processing Burglary054.npy\n",
      "Video Burglary054.npy too short\n",
      "Processing Burglary055.npy\n",
      "Processing Burglary056.npy\n",
      "Processing Burglary057.npy\n",
      "Processing Burglary059.npy\n",
      "Video Burglary059.npy too short\n",
      "Processing Burglary060.npy\n",
      "Processing Burglary063.npy\n",
      "Processing Burglary066.npy\n",
      "Processing Burglary067.npy\n",
      "Processing Burglary068.npy\n",
      "Processing Burglary069.npy\n",
      "Processing Burglary070.npy\n",
      "Processing Burglary071.npy\n",
      "Processing Burglary072.npy\n",
      "Processing Burglary073.npy\n",
      "Processing Burglary074.npy\n",
      "Processing Burglary077.npy\n",
      "Processing Burglary078.npy\n",
      "Video Burglary078.npy too short\n",
      "Processing Burglary080.npy\n",
      "Processing Burglary081.npy\n",
      "Video Burglary081.npy too short\n",
      "Processing Burglary082.npy\n",
      "Processing Burglary083.npy\n",
      "Processing Burglary084.npy\n",
      "Processing Burglary085.npy\n",
      "Processing Burglary086.npy\n",
      "Processing Burglary087.npy\n",
      "Processing Burglary088.npy\n",
      "Processing Burglary089.npy\n",
      "Processing Burglary090.npy\n",
      "Processing Burglary091.npy\n",
      "Processing Burglary092.npy\n",
      "Processing Burglary093.npy\n",
      "Processing Burglary094.npy\n",
      "Processing Burglary096.npy\n",
      "Processing Burglary097.npy\n",
      "Video Burglary097.npy too short\n",
      "Processing Burglary098.npy\n",
      "Processing Burglary099.npy\n",
      "Processing Burglary100.npy\n",
      "Processing Explosion004.npy\n",
      "Processing Explosion005.npy\n",
      "Processing Explosion006.npy\n",
      "Processing Explosion008.npy\n",
      "Processing Explosion009.npy\n",
      "Processing Explosion014.npy\n",
      "Processing Explosion015.npy\n",
      "Processing Explosion016.npy\n",
      "Processing Explosion017.npy\n",
      "Processing Explosion018.npy\n",
      "Processing Explosion020.npy\n",
      "Processing Explosion022.npy\n",
      "Processing Explosion023.npy\n",
      "Processing Explosion024.npy\n",
      "Processing Explosion025.npy\n",
      "Video Explosion025.npy too short\n",
      "Processing Explosion027.npy\n",
      "Processing Explosion029.npy\n",
      "Processing Explosion030.npy\n",
      "Processing Explosion032.npy\n",
      "Processing Explosion034.npy\n",
      "Video Explosion034.npy too short\n",
      "Processing Explosion036.npy\n",
      "Processing Explosion038.npy\n",
      "Processing Explosion042.npy\n",
      "Processing Explosion043.npy\n",
      "Processing Explosion044.npy\n",
      "Processing Explosion047.npy\n",
      "Processing Explosion048.npy\n",
      "Video Explosion048.npy too short\n",
      "Processing Explosion052.npy\n",
      "Processing Fighting002.npy\n",
      "Processing Fighting003.npy\n",
      "Processing Fighting005.npy\n",
      "Processing Fighting006.npy\n",
      "Processing Fighting007.npy\n",
      "Processing Fighting009.npy\n",
      "Processing Fighting010.npy\n",
      "Processing Fighting012.npy\n",
      "Processing Fighting013.npy\n",
      "Processing Fighting014.npy\n",
      "Processing Fighting016.npy\n",
      "Processing Fighting017.npy\n",
      "Processing Fighting018.npy\n",
      "Processing Fighting019.npy\n",
      "Processing Fighting020.npy\n",
      "Processing Fighting021.npy\n",
      "Processing Fighting022.npy\n",
      "Processing Fighting023.npy\n",
      "Processing Fighting024.npy\n",
      "Processing Fighting025.npy\n",
      "Processing Fighting026.npy\n",
      "Processing Fighting027.npy\n",
      "Processing Fighting028.npy\n",
      "Processing Fighting029.npy\n",
      "Processing Fighting030.npy\n",
      "Processing Fighting032.npy\n",
      "Processing Fighting033.npy\n",
      "Processing Fighting034.npy\n",
      "Processing Fighting035.npy\n",
      "Processing Fighting036.npy\n",
      "Processing Fighting037.npy\n",
      "Processing Fighting038.npy\n",
      "Processing Fighting039.npy\n",
      "Processing Fighting040.npy\n",
      "Processing Fighting042.npy\n",
      "Processing Fighting043.npy\n",
      "Processing Fighting044.npy\n",
      "Processing Fighting045.npy\n",
      "Processing Fighting046.npy\n",
      "Processing Fighting047.npy\n",
      "Processing Fighting048.npy\n",
      "Processing Fighting049.npy\n",
      "Processing Fighting051.npy\n",
      "Processing RoadAccidents001.npy\n",
      "Processing RoadAccidents002.npy\n",
      "Video RoadAccidents002.npy too short\n",
      "Processing RoadAccidents003.npy\n",
      "Processing RoadAccidents004.npy\n",
      "Video RoadAccidents004.npy too short\n",
      "Processing RoadAccidents005.npy\n",
      "Video RoadAccidents005.npy too short\n",
      "Processing RoadAccidents006.npy\n",
      "Processing RoadAccidents007.npy\n",
      "Processing RoadAccidents008.npy\n",
      "Processing RoadAccidents009.npy\n",
      "Processing RoadAccidents010.npy\n",
      "Processing RoadAccidents011.npy\n",
      "Processing RoadAccidents012.npy\n",
      "Video RoadAccidents012.npy too short\n",
      "Processing RoadAccidents013.npy\n",
      "Processing RoadAccidents015.npy\n",
      "Processing RoadAccidents016.npy\n",
      "Processing RoadAccidents017.npy\n",
      "Video RoadAccidents017.npy too short\n",
      "Processing RoadAccidents018.npy\n",
      "Processing RoadAccidents019.npy\n",
      "Processing RoadAccidents020.npy\n",
      "Processing RoadAccidents021.npy\n",
      "Video RoadAccidents021.npy too short\n",
      "Processing RoadAccidents022.npy\n",
      "Processing RoadAccidents023.npy\n",
      "Processing RoadAccidents024.npy\n",
      "Processing RoadAccidents025.npy\n",
      "Processing RoadAccidents026.npy\n",
      "Processing RoadAccidents027.npy\n",
      "Video RoadAccidents027.npy too short\n",
      "Processing RoadAccidents028.npy\n",
      "Processing RoadAccidents029.npy\n",
      "Processing RoadAccidents030.npy\n",
      "Processing RoadAccidents031.npy\n",
      "Processing RoadAccidents032.npy\n",
      "Processing RoadAccidents033.npy\n",
      "Processing RoadAccidents034.npy\n",
      "Processing RoadAccidents035.npy\n",
      "Video RoadAccidents035.npy too short\n",
      "Processing RoadAccidents036.npy\n",
      "Processing RoadAccidents037.npy\n",
      "Processing RoadAccidents038.npy\n",
      "Video RoadAccidents038.npy too short\n",
      "Processing RoadAccidents039.npy\n",
      "Video RoadAccidents039.npy too short\n",
      "Processing RoadAccidents040.npy\n",
      "Processing RoadAccidents041.npy\n",
      "Video RoadAccidents041.npy too short\n",
      "Processing RoadAccidents042.npy\n",
      "Processing RoadAccidents043.npy\n",
      "Video RoadAccidents043.npy too short\n",
      "Processing RoadAccidents044.npy\n",
      "Video RoadAccidents044.npy too short\n",
      "Processing RoadAccidents046.npy\n",
      "Processing RoadAccidents047.npy\n",
      "Video RoadAccidents047.npy too short\n",
      "Processing RoadAccidents048.npy\n",
      "Processing RoadAccidents049.npy\n",
      "Processing RoadAccidents050.npy\n",
      "Processing RoadAccidents051.npy\n",
      "Video RoadAccidents051.npy too short\n",
      "Processing RoadAccidents052.npy\n",
      "Video RoadAccidents052.npy too short\n",
      "Processing RoadAccidents053.npy\n",
      "Processing RoadAccidents054.npy\n",
      "Processing RoadAccidents055.npy\n",
      "Processing RoadAccidents056.npy\n",
      "Processing RoadAccidents057.npy\n",
      "Processing RoadAccidents058.npy\n",
      "Processing RoadAccidents059.npy\n",
      "Processing RoadAccidents060.npy\n",
      "Processing RoadAccidents061.npy\n",
      "Processing RoadAccidents062.npy\n",
      "Processing RoadAccidents063.npy\n",
      "Processing RoadAccidents064.npy\n",
      "Processing RoadAccidents065.npy\n",
      "Video RoadAccidents065.npy too short\n",
      "Processing RoadAccidents066.npy\n",
      "Processing RoadAccidents067.npy\n",
      "Processing RoadAccidents068.npy\n",
      "Processing RoadAccidents069.npy\n",
      "Video RoadAccidents069.npy too short\n",
      "Processing RoadAccidents070.npy\n",
      "Processing RoadAccidents071.npy\n",
      "Processing RoadAccidents072.npy\n",
      "Processing RoadAccidents073.npy\n",
      "Processing RoadAccidents074.npy\n",
      "Processing RoadAccidents075.npy\n",
      "Video RoadAccidents075.npy too short\n",
      "Processing RoadAccidents076.npy\n",
      "Processing RoadAccidents077.npy\n",
      "Processing RoadAccidents078.npy\n",
      "Processing RoadAccidents079.npy\n",
      "Processing RoadAccidents080.npy\n",
      "Processing RoadAccidents081.npy\n",
      "Processing RoadAccidents082.npy\n",
      "Processing RoadAccidents083.npy\n",
      "Processing RoadAccidents084.npy\n",
      "Processing RoadAccidents085.npy\n",
      "Processing RoadAccidents086.npy\n",
      "Processing RoadAccidents087.npy\n",
      "Processing RoadAccidents088.npy\n",
      "Processing RoadAccidents089.npy\n",
      "Processing RoadAccidents090.npy\n",
      "Processing RoadAccidents091.npy\n",
      "Processing RoadAccidents092.npy\n",
      "Processing RoadAccidents093.npy\n",
      "Processing RoadAccidents094.npy\n",
      "Processing RoadAccidents095.npy\n",
      "Processing RoadAccidents096.npy\n",
      "Processing RoadAccidents097.npy\n",
      "Processing RoadAccidents098.npy\n",
      "Processing RoadAccidents099.npy\n",
      "Processing RoadAccidents100.npy\n",
      "Processing RoadAccidents101.npy\n",
      "Video RoadAccidents101.npy too short\n",
      "Processing RoadAccidents102.npy\n",
      "Video RoadAccidents102.npy too short\n",
      "Processing RoadAccidents103.npy\n",
      "Processing RoadAccidents104.npy\n",
      "Processing RoadAccidents105.npy\n",
      "Processing RoadAccidents106.npy\n",
      "Processing RoadAccidents107.npy\n",
      "Processing RoadAccidents108.npy\n",
      "Processing RoadAccidents109.npy\n",
      "Processing RoadAccidents110.npy\n",
      "Video RoadAccidents110.npy too short\n",
      "Processing RoadAccidents111.npy\n",
      "Processing RoadAccidents112.npy\n",
      "Processing RoadAccidents113.npy\n",
      "Processing RoadAccidents114.npy\n",
      "Processing RoadAccidents115.npy\n",
      "Processing RoadAccidents116.npy\n",
      "Processing RoadAccidents117.npy\n",
      "Processing RoadAccidents118.npy\n",
      "Processing RoadAccidents119.npy\n",
      "Processing RoadAccidents120.npy\n",
      "Processing RoadAccidents121.npy\n",
      "Processing RoadAccidents122.npy\n",
      "Processing RoadAccidents123.npy\n",
      "Processing RoadAccidents124.npy\n",
      "Processing RoadAccidents125.npy\n",
      "Processing RoadAccidents126.npy\n",
      "Processing RoadAccidents127.npy\n",
      "Processing RoadAccidents128.npy\n",
      "Processing RoadAccidents129.npy\n",
      "Video RoadAccidents129.npy too short\n",
      "Processing RoadAccidents130.npy\n",
      "Processing RoadAccidents131.npy\n",
      "Processing RoadAccidents132.npy\n",
      "Processing RoadAccidents133.npy\n",
      "Processing RoadAccidents134.npy\n",
      "Video RoadAccidents134.npy too short\n",
      "Processing RoadAccidents135.npy\n",
      "Processing RoadAccidents136.npy\n",
      "Processing RoadAccidents137.npy\n",
      "Processing RoadAccidents138.npy\n",
      "Processing RoadAccidents139.npy\n",
      "Processing RoadAccidents140.npy\n",
      "Processing RoadAccidents141.npy\n",
      "Processing RoadAccidents142.npy\n",
      "Processing RoadAccidents143.npy\n",
      "Processing RoadAccidents144.npy\n",
      "Processing RoadAccidents145.npy\n",
      "Processing RoadAccidents146.npy\n",
      "Processing RoadAccidents149.npy\n",
      "Processing RoadAccidents150.npy\n",
      "Processing RoadAccidents151.npy\n",
      "Processing Robbery001.npy\n",
      "Processing Robbery002.npy\n",
      "Processing Robbery003.npy\n",
      "Processing Robbery004.npy\n",
      "Processing Robbery005.npy\n",
      "Processing Robbery006.npy\n",
      "Processing Robbery007.npy\n",
      "Processing Robbery008.npy\n",
      "Processing Robbery009.npy\n",
      "Processing Robbery010.npy\n",
      "Processing Robbery011.npy\n",
      "Processing Robbery012.npy\n",
      "Processing Robbery013.npy\n",
      "Processing Robbery015.npy\n",
      "Processing Robbery016.npy\n",
      "Processing Robbery017.npy\n",
      "Processing Robbery018.npy\n",
      "Processing Robbery019.npy\n",
      "Processing Robbery020.npy\n",
      "Processing Robbery022.npy\n",
      "Processing Robbery023.npy\n",
      "Processing Robbery024.npy\n",
      "Processing Robbery025.npy\n",
      "Processing Robbery027.npy\n",
      "Processing Robbery028.npy\n",
      "Processing Robbery029.npy\n",
      "Processing Robbery030.npy\n",
      "Processing Robbery031.npy\n",
      "Processing Robbery032.npy\n",
      "Processing Robbery033.npy\n",
      "Processing Robbery034.npy\n",
      "Processing Robbery035.npy\n",
      "Processing Robbery036.npy\n",
      "Processing Robbery038.npy\n",
      "Processing Robbery039.npy\n",
      "Processing Robbery040.npy\n",
      "Processing Robbery041.npy\n",
      "Processing Robbery042.npy\n",
      "Processing Robbery043.npy\n",
      "Processing Robbery044.npy\n",
      "Video Robbery044.npy too short\n",
      "Processing Robbery045.npy\n",
      "Processing Robbery046.npy\n",
      "Processing Robbery047.npy\n",
      "Processing Robbery048.npy\n",
      "Processing Robbery049.npy\n",
      "Processing Robbery050.npy\n",
      "Processing Robbery051.npy\n",
      "Processing Robbery052.npy\n",
      "Processing Robbery053.npy\n",
      "Processing Robbery054.npy\n",
      "Processing Robbery056.npy\n",
      "Processing Robbery057.npy\n",
      "Processing Robbery058.npy\n",
      "Processing Robbery060.npy\n",
      "Processing Robbery061.npy\n",
      "Processing Robbery062.npy\n",
      "Processing Robbery063.npy\n",
      "Processing Robbery064.npy\n",
      "Processing Robbery065.npy\n",
      "Processing Robbery066.npy\n",
      "Processing Robbery067.npy\n",
      "Processing Robbery068.npy\n",
      "Video Robbery068.npy too short\n",
      "Processing Robbery069.npy\n",
      "Processing Robbery070.npy\n",
      "Processing Robbery071.npy\n",
      "Processing Robbery072.npy\n",
      "Processing Robbery073.npy\n",
      "Processing Robbery074.npy\n",
      "Processing Robbery075.npy\n",
      "Processing Robbery076.npy\n",
      "Processing Robbery077.npy\n",
      "Processing Robbery078.npy\n",
      "Processing Robbery079.npy\n",
      "Processing Robbery080.npy\n",
      "Processing Robbery081.npy\n",
      "Processing Robbery082.npy\n",
      "Processing Robbery083.npy\n",
      "Processing Robbery084.npy\n",
      "Processing Robbery085.npy\n",
      "Processing Robbery086.npy\n",
      "Processing Robbery087.npy\n",
      "Processing Robbery088.npy\n",
      "Processing Robbery089.npy\n",
      "Video Robbery089.npy too short\n",
      "Processing Robbery090.npy\n",
      "Processing Robbery091.npy\n",
      "Processing Robbery092.npy\n",
      "Processing Robbery093.npy\n",
      "Processing Robbery094.npy\n",
      "Processing Robbery095.npy\n",
      "Processing Robbery096.npy\n",
      "Processing Robbery097.npy\n",
      "Processing Robbery099.npy\n",
      "Processing Robbery100.npy\n",
      "Processing Robbery101.npy\n",
      "Processing Robbery102.npy\n",
      "Processing Robbery103.npy\n",
      "Processing Robbery104.npy\n",
      "Processing Robbery105.npy\n",
      "Processing Robbery106.npy\n",
      "Processing Robbery107.npy\n",
      "Processing Robbery108.npy\n",
      "Processing Robbery109.npy\n",
      "Processing Robbery110.npy\n",
      "Processing Robbery111.npy\n",
      "Processing Robbery112.npy\n",
      "Processing Robbery113.npy\n",
      "Processing Robbery114.npy\n",
      "Processing Robbery115.npy\n",
      "Processing Robbery116.npy\n",
      "Video Robbery116.npy too short\n",
      "Processing Robbery117.npy\n",
      "Processing Robbery118.npy\n",
      "Processing Robbery119.npy\n",
      "Processing Robbery120.npy\n",
      "Processing Robbery121.npy\n",
      "Processing Robbery122.npy\n",
      "Processing Robbery123.npy\n",
      "Processing Robbery125.npy\n",
      "Processing Robbery126.npy\n",
      "Processing Robbery127.npy\n",
      "Processing Robbery128.npy\n",
      "Processing Robbery129.npy\n",
      "Processing Robbery130.npy\n",
      "Processing Robbery131.npy\n",
      "Processing Robbery132.npy\n",
      "Processing Robbery133.npy\n",
      "Processing Robbery134.npy\n",
      "Processing Robbery135.npy\n",
      "Processing Robbery136.npy\n",
      "Processing Robbery137.npy\n",
      "Processing Robbery138.npy\n",
      "Processing Robbery139.npy\n",
      "Processing Robbery140.npy\n",
      "Processing Robbery141.npy\n",
      "Processing Robbery142.npy\n",
      "Processing Robbery143.npy\n",
      "Processing Robbery144.npy\n",
      "Processing Robbery145.npy\n",
      "Processing Robbery146.npy\n",
      "Processing Robbery147.npy\n",
      "Processing Robbery148.npy\n",
      "Processing Robbery149.npy\n",
      "Processing Robbery150.npy\n",
      "Processing Shooting001.npy\n",
      "Video Shooting001.npy too short\n",
      "Processing Shooting002.npy\n",
      "Processing Shooting003.npy\n",
      "Processing Shooting004.npy\n",
      "Processing Shooting005.npy\n",
      "Processing Shooting007.npy\n",
      "Processing Shooting008.npy\n",
      "Processing Shooting009.npy\n",
      "Processing Shooting011.npy\n",
      "Processing Shooting012.npy\n",
      "Processing Shooting013.npy\n",
      "Processing Shooting014.npy\n",
      "Processing Shooting015.npy\n",
      "Processing Shooting017.npy\n",
      "Processing Shooting018.npy\n",
      "Processing Shooting019.npy\n",
      "Processing Shooting020.npy\n",
      "Processing Shooting021.npy\n",
      "Processing Shooting022.npy\n",
      "Processing Shooting023.npy\n",
      "Video Shooting023.npy too short\n",
      "Processing Shooting024.npy\n",
      "Processing Shooting025.npy\n",
      "Processing Shooting026.npy\n",
      "Processing Shooting027.npy\n",
      "Processing Shooting028.npy\n",
      "Processing Shooting030.npy\n",
      "Processing Shooting031.npy\n",
      "Processing Shooting033.npy\n",
      "Processing Shooting034.npy\n",
      "Processing Shooting036.npy\n",
      "Processing Shooting037.npy\n",
      "Video Shooting037.npy too short\n",
      "Processing Shooting038.npy\n",
      "Processing Shooting040.npy\n",
      "Processing Shooting041.npy\n",
      "Processing Shooting042.npy\n",
      "Processing Shooting043.npy\n",
      "Processing Shooting044.npy\n",
      "Video Shooting044.npy too short\n",
      "Processing Shooting046.npy\n",
      "Processing Shooting048.npy\n",
      "Processing Shooting050.npy\n",
      "Processing Shooting051.npy\n",
      "Processing Shooting052.npy\n",
      "Processing Shooting053.npy\n",
      "Processing Shooting054.npy\n",
      "Processing Shoplifting001.npy\n",
      "Processing Shoplifting004.npy\n",
      "Processing Shoplifting006.npy\n",
      "Processing Shoplifting010.npy\n",
      "Processing Shoplifting017.npy\n",
      "Video Shoplifting017.npy too short\n",
      "Processing Shoplifting019.npy\n",
      "Processing Shoplifting021.npy\n",
      "Processing Shoplifting022.npy\n",
      "Processing Shoplifting025.npy\n",
      "Processing Shoplifting026.npy\n",
      "Processing Shoplifting027.npy\n",
      "Processing Shoplifting028.npy\n",
      "Processing Shoplifting032.npy\n",
      "Processing Shoplifting036.npy\n",
      "Processing Shoplifting037.npy\n",
      "Processing Shoplifting039.npy\n",
      "Processing Shoplifting045.npy\n",
      "Processing Shoplifting048.npy\n",
      "Processing Shoplifting049.npy\n",
      "Processing Shoplifting052.npy\n",
      "Processing Shoplifting053.npy\n",
      "Processing Stealing002.npy\n",
      "Processing Stealing003.npy\n",
      "Processing Stealing004.npy\n",
      "Processing Stealing006.npy\n",
      "Processing Stealing007.npy\n",
      "Processing Stealing008.npy\n",
      "Processing Stealing009.npy\n",
      "Processing Stealing010.npy\n",
      "Processing Stealing011.npy\n",
      "Processing Stealing012.npy\n",
      "Processing Stealing014.npy\n",
      "Processing Stealing015.npy\n",
      "Processing Stealing016.npy\n",
      "Processing Stealing017.npy\n",
      "Processing Stealing018.npy\n",
      "Processing Stealing019.npy\n",
      "Processing Stealing020.npy\n",
      "Processing Stealing021.npy\n",
      "Processing Stealing022.npy\n",
      "Processing Stealing023.npy\n",
      "Processing Stealing024.npy\n",
      "Processing Stealing026.npy\n",
      "Processing Stealing027.npy\n",
      "Processing Stealing028.npy\n",
      "Processing Stealing029.npy\n",
      "Video Stealing029.npy too short\n",
      "Processing Stealing030.npy\n",
      "Processing Stealing031.npy\n",
      "Processing Stealing032.npy\n",
      "Processing Stealing036.npy\n",
      "Processing Stealing037.npy\n",
      "Processing Stealing042.npy\n",
      "Processing Stealing043.npy\n",
      "Processing Stealing044.npy\n",
      "Processing Stealing047.npy\n",
      "Processing Stealing048.npy\n",
      "Processing Stealing049.npy\n",
      "Processing Stealing050.npy\n",
      "Processing Stealing051.npy\n",
      "Processing Stealing052.npy\n",
      "Processing Stealing054.npy\n",
      "Processing Stealing055.npy\n",
      "Processing Stealing057.npy\n",
      "Processing Stealing058.npy\n",
      "Processing Stealing059.npy\n",
      "Processing Stealing060.npy\n",
      "Processing Stealing061.npy\n",
      "Processing Stealing062.npy\n",
      "Processing Stealing065.npy\n",
      "Processing Stealing066.npy\n",
      "Processing Stealing067.npy\n",
      "Processing Stealing068.npy\n",
      "Processing Stealing069.npy\n",
      "Processing Stealing070.npy\n",
      "Processing Stealing071.npy\n",
      "Processing Stealing073.npy\n",
      "Processing Stealing074.npy\n",
      "Processing Stealing075.npy\n",
      "Processing Stealing078.npy\n",
      "Processing Stealing079.npy\n",
      "Processing Stealing080.npy\n",
      "Processing Stealing081.npy\n",
      "Processing Stealing082.npy\n",
      "Processing Stealing083.npy\n",
      "Processing Stealing087.npy\n",
      "Processing Stealing091.npy\n",
      "Processing Stealing093.npy\n",
      "Processing Stealing094.npy\n",
      "Processing Stealing095.npy\n",
      "Processing Stealing096.npy\n",
      "Processing Stealing097.npy\n",
      "Processing Stealing098.npy\n",
      "Processing Stealing101.npy\n",
      "Processing Stealing102.npy\n",
      "Processing Stealing103.npy\n",
      "Processing Stealing104.npy\n",
      "Processing Stealing105.npy\n",
      "Processing Stealing106.npy\n",
      "Processing Stealing107.npy\n",
      "Processing Stealing108.npy\n",
      "Processing Stealing110.npy\n",
      "Processing Stealing111.npy\n",
      "Processing Stealing112.npy\n",
      "Processing Stealing113.npy\n",
      "Processing Stealing114.npy\n",
      "Processing Vandalism001.npy\n",
      "Processing Vandalism002.npy\n",
      "Processing Vandalism003.npy\n",
      "Processing Vandalism004.npy\n",
      "Processing Vandalism005.npy\n",
      "Processing Vandalism006.npy\n",
      "Processing Vandalism007.npy\n",
      "Processing Vandalism009.npy\n",
      "Processing Vandalism010.npy\n",
      "Processing Vandalism012.npy\n",
      "Processing Vandalism013.npy\n",
      "Processing Vandalism014.npy\n",
      "Video Vandalism014.npy too short\n",
      "Processing Vandalism015.npy\n",
      "Processing Vandalism016.npy\n",
      "Processing Vandalism017.npy\n",
      "Processing Vandalism018.npy\n",
      "Processing Vandalism019.npy\n",
      "Processing Vandalism020.npy\n",
      "Processing Vandalism021.npy\n",
      "Processing Vandalism022.npy\n",
      "Processing Vandalism023.npy\n",
      "Processing Vandalism024.npy\n",
      "Processing Vandalism025.npy\n",
      "Processing Vandalism026.npy\n",
      "Processing Vandalism027.npy\n",
      "Processing Vandalism028.npy\n",
      "Processing Vandalism029.npy\n",
      "Video Vandalism029.npy too short\n",
      "Processing Vandalism030.npy\n",
      "Processing Vandalism031.npy\n",
      "Processing Vandalism032.npy\n",
      "Processing Vandalism033.npy\n",
      "Processing Vandalism034.npy\n",
      "Processing Vandalism035.npy\n",
      "Processing Vandalism036.npy\n",
      "Processing Vandalism037.npy\n",
      "Processing Vandalism038.npy\n",
      "Processing Vandalism039.npy\n",
      "Processing Vandalism040.npy\n",
      "Processing Vandalism041.npy\n",
      "Processing Vandalism042.npy\n",
      "Processing Vandalism043.npy\n",
      "Processing Vandalism044.npy\n",
      "Processing Vandalism045.npy\n",
      "Processing Vandalism046.npy\n",
      "Processing Vandalism047.npy\n",
      "Processing Vandalism048.npy\n",
      "Processing Vandalism049.npy\n",
      "Processing Vandalism050.npy\n"
     ]
    }
   ],
   "source": [
    "raw_abnormal_train_features_c3d_list=os.listdir(raw_abnormal_train_features_c3d)\n",
    "for filename in os.listdir(raw_abnormal_train_features_c3d):\n",
    "    print(\"Processing {}\".format(filename))\n",
    "    raw_file_path = os.path.join(\n",
    "        raw_abnormal_train_features_c3d, filename\n",
    "    )\n",
    "    processed_file_path = os.path.join(\n",
    "        processed_abnormal_train_features_c3d, filename\n",
    "    )\n",
    "    with open(raw_file_path, \"rb\") as f:\n",
    "        feats = np.load(f, allow_pickle=True)\n",
    "\n",
    "    try:\n",
    "        new_feats = transform_into_segments(feats)\n",
    "        with open(processed_file_path, \"wb\") as f:\n",
    "            np.save(f, new_feats, allow_pickle=True)\n",
    "    except RuntimeError:\n",
    "        print(\"Video {} too short\".format(filename))"
   ]
  }
 ],
 "metadata": {
  "accelerator": "GPU",
  "colab": {
   "collapsed_sections": [
    "91Whhz7wYjv4",
    "B0zyF-v_CZCg",
    "LjY1bDQCbxMr",
    "AhPxsMW0yQUu",
    "lPApAj59yUXp",
    "S3jDISdJg5Ln",
    "lKzL2lYHioRU",
    "dvv1W7mPisHb",
    "P6Ij0gMT2V3B",
    "5iQX04Gm5K4h",
    "Dbw458e65bDv",
    "PDNVo47z5fMk",
    "PfNhzIxo5hXA",
    "Hv0MOr8F5jPo",
    "T2s89ou05m3o",
    "bjsZmv-15rS9",
    "LKJT0Uok5uaO",
    "PFbc5TLGbV2N",
    "b-UOUFkiVkBj"
   ],
   "include_colab_link": true,
   "machine_shape": "hm",
   "name": "Anomaly Detection.ipynb",
   "provenance": []
  },
  "kernelspec": {
   "display_name": "Python [conda env:py35]",
   "language": "python",
   "name": "conda-env-py35-py"
  },
  "language_info": {
   "codemirror_mode": {
    "name": "ipython",
    "version": 3
   },
   "file_extension": ".py",
   "mimetype": "text/x-python",
   "name": "python",
   "nbconvert_exporter": "python",
   "pygments_lexer": "ipython3",
   "version": "3.6.10"
  }
 },
 "nbformat": 4,
 "nbformat_minor": 1
}
